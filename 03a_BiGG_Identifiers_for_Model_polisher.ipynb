{
 "cells": [
  {
   "cell_type": "code",
   "execution_count": 1,
   "metadata": {},
   "outputs": [],
   "source": [
    "from libsbml import * \n",
    "reader = SBMLReader()\n",
    "document = reader.readSBMLFromFile('created_PA14.xml')\n",
    "model = document.getModel()"
   ]
  },
  {
   "cell_type": "code",
   "execution_count": 2,
   "metadata": {},
   "outputs": [
    {
     "name": "stdout",
     "output_type": "stream",
     "text": [
      "Species: 1295\n",
      "Reactions:  1518\n",
      "Compartments:  2\n"
     ]
    }
   ],
   "source": [
    "print('Species:', model.getNumSpecies())\n",
    "print('Reactions: ', model.getNumReactions())\n",
    "print('Compartments: ', model.getNumCompartments())"
   ]
  },
  {
   "cell_type": "markdown",
   "metadata": {},
   "source": [
    "## Change reaction identifier"
   ]
  },
  {
   "cell_type": "code",
   "execution_count": 3,
   "metadata": {},
   "outputs": [],
   "source": [
    "reaction_list = model.getListOfReactions()"
   ]
  },
  {
   "cell_type": "code",
   "execution_count": 4,
   "metadata": {},
   "outputs": [
    {
     "name": "stdout",
     "output_type": "stream",
     "text": [
      "1\n",
      "1\n",
      "2\n"
     ]
    },
    {
     "data": {
      "text/plain": [
       "'http://identifiers.org/bigg.reaction/ACOAD4f'"
      ]
     },
     "execution_count": 4,
     "metadata": {},
     "output_type": "execute_result"
    }
   ],
   "source": [
    "reaction_1 =reaction_list[0]\n",
    "#print(reaction_1.getName())\n",
    "terms = reaction_1.getCVTerms()\n",
    "print(len(terms))\n",
    "term_size = terms.getSize()\n",
    "print(term_size)\n",
    "real_term = terms.get(0)\n",
    "print(real_term.getNumResources())\n",
    "\n",
    "resources = real_term.getResources()\n",
    "resources.getLength()\n",
    "resources.getValue(1)"
   ]
  },
  {
   "cell_type": "code",
   "execution_count": 6,
   "metadata": {},
   "outputs": [
    {
     "name": "stdout",
     "output_type": "stream",
     "text": [
      "792\n"
     ]
    }
   ],
   "source": [
    "ids_changed = 0\n",
    "for i in range(len(reaction_list)):\n",
    "    reaction = reaction_list[i]\n",
    "    #print(i, reaction.getId())\n",
    "    term = reaction.getCVTerms()\n",
    "    #print(term)\n",
    "    if term == None:\n",
    "        continue\n",
    "    else:\n",
    "        res = term.get(0).getResources()\n",
    "        res_length = res.getLength()\n",
    "        for i in range(res_length):\n",
    "            value = res.getValue(i)\n",
    "            if 'bigg.reaction' in value:\n",
    "                split = value.split('/')\n",
    "                bigg_id = split[-1]\n",
    "                reaction.setId(bigg_id)\n",
    "                ids_changed += 1\n",
    "            \n",
    "print(ids_changed)"
   ]
  },
  {
   "cell_type": "markdown",
   "metadata": {},
   "source": [
    "## Change metabolite Identifier"
   ]
  },
  {
   "cell_type": "code",
   "execution_count": 7,
   "metadata": {},
   "outputs": [],
   "source": [
    "metabolite_list = model.getListOfSpecies()"
   ]
  },
  {
   "cell_type": "code",
   "execution_count": 8,
   "metadata": {},
   "outputs": [
    {
     "name": "stdout",
     "output_type": "stream",
     "text": [
      "http://identifiers.org/bigg.metabolite/fad\n",
      "fad\n"
     ]
    }
   ],
   "source": [
    "'''Testing'''\n",
    "species_1 = metabolite_list[0]\n",
    "res = species_1.getCVTerms().get(0).getResources()\n",
    "res_length = res.getLength()\n",
    "for i in range(res_length):\n",
    "    value = res.getValue(i)\n",
    "    if 'bigg.metabolite' in value:\n",
    "        print(res.getValue(i))\n",
    "        split = value.split('/')\n",
    "        bigg_id = split[-1]\n",
    "        print(bigg_id)\n",
    "        #reaction_1.setId(bigg_id)"
   ]
  },
  {
   "cell_type": "code",
   "execution_count": 9,
   "metadata": {},
   "outputs": [
    {
     "name": "stdout",
     "output_type": "stream",
     "text": [
      "1056\n"
     ]
    }
   ],
   "source": [
    "ids_changed = 0\n",
    "for i in range(len(metabolite_list)):\n",
    "    metabolite = metabolite_list[i]\n",
    "    #print(i, metabolite.getId())\n",
    "    term = metabolite.getCVTerms()\n",
    "    #print(term)\n",
    "    if term == None:\n",
    "        continue\n",
    "    else:\n",
    "        res = term.get(0).getResources()\n",
    "        res_length = res.getLength()\n",
    "        for i in range(res_length):\n",
    "            value = res.getValue(i)\n",
    "            #print(value)\n",
    "            if 'bigg.metabolite' in value:\n",
    "                split = value.split('/')\n",
    "                bigg_id = split[-1]\n",
    "                if not bigg_id:\n",
    "                    continue\n",
    "                else:\n",
    "                #print(bigg_id)\n",
    "                    metabolite.setId(bigg_id)\n",
    "                    ids_changed += 1\n",
    "            \n",
    "print(ids_changed)"
   ]
  },
  {
   "cell_type": "code",
   "execution_count": 10,
   "metadata": {},
   "outputs": [
    {
     "data": {
      "text/plain": [
       "1"
      ]
     },
     "execution_count": 10,
     "metadata": {},
     "output_type": "execute_result"
    }
   ],
   "source": [
    "newdocument = model.getSBMLDocument()\n",
    "writeSBMLToFile(newdocument,'created_PA14_for_model_polisher.xml') # 1 means success, 0 means failure"
   ]
  }
 ],
 "metadata": {
  "kernelspec": {
   "display_name": "Python 3",
   "language": "python",
   "name": "python3"
  },
  "language_info": {
   "codemirror_mode": {
    "name": "ipython",
    "version": 3
   },
   "file_extension": ".py",
   "mimetype": "text/x-python",
   "name": "python",
   "nbconvert_exporter": "python",
   "pygments_lexer": "ipython3",
   "version": "3.6.5"
  }
 },
 "nbformat": 4,
 "nbformat_minor": 2
}
