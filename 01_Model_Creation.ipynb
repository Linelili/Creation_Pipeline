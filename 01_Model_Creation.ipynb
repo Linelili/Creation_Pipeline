{
 "cells": [
  {
   "cell_type": "code",
   "execution_count": 1,
   "metadata": {},
   "outputs": [],
   "source": [
    "import pandas as pd\n",
    "import cobra\n",
    "from cobra import Model, Reaction, Metabolite"
   ]
  },
  {
   "cell_type": "markdown",
   "metadata": {},
   "source": [
    "## Read in and edit the metabolite data"
   ]
  },
  {
   "cell_type": "code",
   "execution_count": 2,
   "metadata": {},
   "outputs": [
    {
     "data": {
      "text/html": [
       "<div>\n",
       "<style scoped>\n",
       "    .dataframe tbody tr th:only-of-type {\n",
       "        vertical-align: middle;\n",
       "    }\n",
       "\n",
       "    .dataframe tbody tr th {\n",
       "        vertical-align: top;\n",
       "    }\n",
       "\n",
       "    .dataframe thead th {\n",
       "        text-align: right;\n",
       "    }\n",
       "</style>\n",
       "<table border=\"1\" class=\"dataframe\">\n",
       "  <thead>\n",
       "    <tr style=\"text-align: right;\">\n",
       "      <th></th>\n",
       "      <th>Abbreviation</th>\n",
       "      <th>Name</th>\n",
       "      <th>Formula (neutral)</th>\n",
       "      <th>Formula (Charged)</th>\n",
       "      <th>Charge</th>\n",
       "      <th>Compartment</th>\n",
       "      <th>KEGG ID</th>\n",
       "      <th>Bigg ID</th>\n",
       "      <th>PubChemID</th>\n",
       "      <th>CheBI ID</th>\n",
       "      <th>Inchi String</th>\n",
       "      <th>Smiles</th>\n",
       "      <th>Remark</th>\n",
       "    </tr>\n",
       "  </thead>\n",
       "  <tbody>\n",
       "    <tr>\n",
       "      <th>0</th>\n",
       "      <td>cJB00034[e]</td>\n",
       "      <td>L-Sorbose</td>\n",
       "      <td>NaN</td>\n",
       "      <td>C6H12O6</td>\n",
       "      <td>0</td>\n",
       "      <td>NaN</td>\n",
       "      <td>C00247</td>\n",
       "      <td>srb__L</td>\n",
       "      <td>6904.0</td>\n",
       "      <td>NaN</td>\n",
       "      <td>NaN</td>\n",
       "      <td>NaN</td>\n",
       "      <td>cpd00212</td>\n",
       "    </tr>\n",
       "    <tr>\n",
       "      <th>1</th>\n",
       "      <td>cJB00124[c]</td>\n",
       "      <td>3-Demethylubiquinol-9</td>\n",
       "      <td>NaN</td>\n",
       "      <td>C53H82O4</td>\n",
       "      <td>-1</td>\n",
       "      <td>NaN</td>\n",
       "      <td>C03226</td>\n",
       "      <td>NaN</td>\n",
       "      <td>86583403.0</td>\n",
       "      <td>NaN</td>\n",
       "      <td>NaN</td>\n",
       "      <td>NaN</td>\n",
       "      <td>cpd24737</td>\n",
       "    </tr>\n",
       "    <tr>\n",
       "      <th>2</th>\n",
       "      <td>cJB00125[c]</td>\n",
       "      <td>Ubiquinol-9</td>\n",
       "      <td>NaN</td>\n",
       "      <td>C54H84O4</td>\n",
       "      <td>0</td>\n",
       "      <td>NaN</td>\n",
       "      <td>C01967</td>\n",
       "      <td>q9h2</td>\n",
       "      <td>45281170.0</td>\n",
       "      <td>NaN</td>\n",
       "      <td>NaN</td>\n",
       "      <td>NaN</td>\n",
       "      <td>NaN</td>\n",
       "    </tr>\n",
       "    <tr>\n",
       "      <th>3</th>\n",
       "      <td>cJB00126[c]</td>\n",
       "      <td>Dihydroaeruginoic acid</td>\n",
       "      <td>NaN</td>\n",
       "      <td>C10H9NO3S</td>\n",
       "      <td>0</td>\n",
       "      <td>NaN</td>\n",
       "      <td>NaN</td>\n",
       "      <td>NaN</td>\n",
       "      <td>5484365.0</td>\n",
       "      <td>NaN</td>\n",
       "      <td>NaN</td>\n",
       "      <td>NaN</td>\n",
       "      <td>NaN</td>\n",
       "    </tr>\n",
       "    <tr>\n",
       "      <th>4</th>\n",
       "      <td>cJB00127[c]</td>\n",
       "      <td>cis-2-Decenoic acid</td>\n",
       "      <td>NaN</td>\n",
       "      <td>C10H17O2</td>\n",
       "      <td>-1</td>\n",
       "      <td>NaN</td>\n",
       "      <td>NaN</td>\n",
       "      <td>NaN</td>\n",
       "      <td>5282724.0</td>\n",
       "      <td>NaN</td>\n",
       "      <td>NaN</td>\n",
       "      <td>NaN</td>\n",
       "      <td>NaN</td>\n",
       "    </tr>\n",
       "  </tbody>\n",
       "</table>\n",
       "</div>"
      ],
      "text/plain": [
       "  Abbreviation                    Name  Formula (neutral) Formula (Charged)  \\\n",
       "0  cJB00034[e]               L-Sorbose                NaN           C6H12O6   \n",
       "1  cJB00124[c]   3-Demethylubiquinol-9                NaN          C53H82O4   \n",
       "2  cJB00125[c]             Ubiquinol-9                NaN          C54H84O4   \n",
       "3  cJB00126[c]  Dihydroaeruginoic acid                NaN         C10H9NO3S   \n",
       "4  cJB00127[c]     cis-2-Decenoic acid                NaN          C10H17O2   \n",
       "\n",
       "   Charge  Compartment KEGG ID Bigg ID   PubChemID  CheBI ID  Inchi String  \\\n",
       "0       0          NaN  C00247  srb__L      6904.0       NaN           NaN   \n",
       "1      -1          NaN  C03226     NaN  86583403.0       NaN           NaN   \n",
       "2       0          NaN  C01967    q9h2  45281170.0       NaN           NaN   \n",
       "3       0          NaN     NaN     NaN   5484365.0       NaN           NaN   \n",
       "4      -1          NaN     NaN     NaN   5282724.0       NaN           NaN   \n",
       "\n",
       "   Smiles    Remark  \n",
       "0     NaN  cpd00212  \n",
       "1     NaN  cpd24737  \n",
       "2     NaN       NaN  \n",
       "3     NaN       NaN  \n",
       "4     NaN       NaN  "
      ]
     },
     "execution_count": 2,
     "metadata": {},
     "output_type": "execute_result"
    }
   ],
   "source": [
    "metabolites = pd.read_excel('metabolites_extended.xlsx')   #Import\n",
    "metabolites.head()                                         #Show Table"
   ]
  },
  {
   "cell_type": "code",
   "execution_count": 3,
   "metadata": {},
   "outputs": [
    {
     "data": {
      "text/html": [
       "<div>\n",
       "<style scoped>\n",
       "    .dataframe tbody tr th:only-of-type {\n",
       "        vertical-align: middle;\n",
       "    }\n",
       "\n",
       "    .dataframe tbody tr th {\n",
       "        vertical-align: top;\n",
       "    }\n",
       "\n",
       "    .dataframe thead th {\n",
       "        text-align: right;\n",
       "    }\n",
       "</style>\n",
       "<table border=\"1\" class=\"dataframe\">\n",
       "  <thead>\n",
       "    <tr style=\"text-align: right;\">\n",
       "      <th></th>\n",
       "      <th>Abbreviation</th>\n",
       "      <th>Name</th>\n",
       "      <th>Formula (Charged)</th>\n",
       "      <th>Charge</th>\n",
       "      <th>Compartment</th>\n",
       "      <th>KEGG ID</th>\n",
       "      <th>Bigg ID</th>\n",
       "      <th>Remark</th>\n",
       "    </tr>\n",
       "  </thead>\n",
       "  <tbody>\n",
       "    <tr>\n",
       "      <th>0</th>\n",
       "      <td>cJB00034[e]</td>\n",
       "      <td>L-Sorbose</td>\n",
       "      <td>C6H12O6</td>\n",
       "      <td>0</td>\n",
       "      <td>NaN</td>\n",
       "      <td>C00247</td>\n",
       "      <td>srb__L</td>\n",
       "      <td>cpd00212</td>\n",
       "    </tr>\n",
       "    <tr>\n",
       "      <th>1</th>\n",
       "      <td>cJB00124[c]</td>\n",
       "      <td>3-Demethylubiquinol-9</td>\n",
       "      <td>C53H82O4</td>\n",
       "      <td>-1</td>\n",
       "      <td>NaN</td>\n",
       "      <td>C03226</td>\n",
       "      <td>NaN</td>\n",
       "      <td>cpd24737</td>\n",
       "    </tr>\n",
       "    <tr>\n",
       "      <th>2</th>\n",
       "      <td>cJB00125[c]</td>\n",
       "      <td>Ubiquinol-9</td>\n",
       "      <td>C54H84O4</td>\n",
       "      <td>0</td>\n",
       "      <td>NaN</td>\n",
       "      <td>C01967</td>\n",
       "      <td>q9h2</td>\n",
       "      <td>NaN</td>\n",
       "    </tr>\n",
       "    <tr>\n",
       "      <th>3</th>\n",
       "      <td>cJB00126[c]</td>\n",
       "      <td>Dihydroaeruginoic acid</td>\n",
       "      <td>C10H9NO3S</td>\n",
       "      <td>0</td>\n",
       "      <td>NaN</td>\n",
       "      <td>NaN</td>\n",
       "      <td>NaN</td>\n",
       "      <td>NaN</td>\n",
       "    </tr>\n",
       "    <tr>\n",
       "      <th>4</th>\n",
       "      <td>cJB00127[c]</td>\n",
       "      <td>cis-2-Decenoic acid</td>\n",
       "      <td>C10H17O2</td>\n",
       "      <td>-1</td>\n",
       "      <td>NaN</td>\n",
       "      <td>NaN</td>\n",
       "      <td>NaN</td>\n",
       "      <td>NaN</td>\n",
       "    </tr>\n",
       "  </tbody>\n",
       "</table>\n",
       "</div>"
      ],
      "text/plain": [
       "  Abbreviation                    Name Formula (Charged)  Charge  Compartment  \\\n",
       "0  cJB00034[e]               L-Sorbose           C6H12O6       0          NaN   \n",
       "1  cJB00124[c]   3-Demethylubiquinol-9          C53H82O4      -1          NaN   \n",
       "2  cJB00125[c]             Ubiquinol-9          C54H84O4       0          NaN   \n",
       "3  cJB00126[c]  Dihydroaeruginoic acid         C10H9NO3S       0          NaN   \n",
       "4  cJB00127[c]     cis-2-Decenoic acid          C10H17O2      -1          NaN   \n",
       "\n",
       "  KEGG ID Bigg ID    Remark  \n",
       "0  C00247  srb__L  cpd00212  \n",
       "1  C03226     NaN  cpd24737  \n",
       "2  C01967    q9h2       NaN  \n",
       "3     NaN     NaN       NaN  \n",
       "4     NaN     NaN       NaN  "
      ]
     },
     "execution_count": 3,
     "metadata": {},
     "output_type": "execute_result"
    }
   ],
   "source": [
    "#Delete Columns that are not needed \n",
    "metabolites=metabolites.drop(['PubChemID', 'CheBI ID', 'Inchi String', 'Smiles', 'Formula (neutral)'], axis=1)\n",
    "metabolites.head()"
   ]
  },
  {
   "cell_type": "code",
   "execution_count": 4,
   "metadata": {},
   "outputs": [
    {
     "data": {
      "text/html": [
       "<div>\n",
       "<style scoped>\n",
       "    .dataframe tbody tr th:only-of-type {\n",
       "        vertical-align: middle;\n",
       "    }\n",
       "\n",
       "    .dataframe tbody tr th {\n",
       "        vertical-align: top;\n",
       "    }\n",
       "\n",
       "    .dataframe thead th {\n",
       "        text-align: right;\n",
       "    }\n",
       "</style>\n",
       "<table border=\"1\" class=\"dataframe\">\n",
       "  <thead>\n",
       "    <tr style=\"text-align: right;\">\n",
       "      <th></th>\n",
       "      <th>Abbreviation</th>\n",
       "      <th>Name</th>\n",
       "      <th>Formula (Charged)</th>\n",
       "      <th>Charge</th>\n",
       "      <th>Compartment</th>\n",
       "      <th>KEGG ID</th>\n",
       "      <th>Bigg ID</th>\n",
       "      <th>Remark</th>\n",
       "    </tr>\n",
       "  </thead>\n",
       "  <tbody>\n",
       "    <tr>\n",
       "      <th>1290</th>\n",
       "      <td>cpd01700[c]</td>\n",
       "      <td>D-Citramalate</td>\n",
       "      <td>C5H6O</td>\n",
       "      <td>-2</td>\n",
       "      <td>cytosol</td>\n",
       "      <td>C02612</td>\n",
       "      <td>citm</td>\n",
       "      <td>NaN</td>\n",
       "    </tr>\n",
       "    <tr>\n",
       "      <th>1291</th>\n",
       "      <td>cpd03593[c]</td>\n",
       "      <td>D-erythro-3-Methylmalate</td>\n",
       "      <td>C5H6O5</td>\n",
       "      <td>-2</td>\n",
       "      <td>cytosol</td>\n",
       "      <td>C06032</td>\n",
       "      <td>r3mmal</td>\n",
       "      <td>NaN</td>\n",
       "    </tr>\n",
       "    <tr>\n",
       "      <th>1292</th>\n",
       "      <td>cpd02605[c]</td>\n",
       "      <td>2-isopropyl-3-oxosuccinate</td>\n",
       "      <td>C7H8O5</td>\n",
       "      <td>-2</td>\n",
       "      <td>cytosol</td>\n",
       "      <td>C04236</td>\n",
       "      <td>3c4mop</td>\n",
       "      <td>NaN</td>\n",
       "    </tr>\n",
       "    <tr>\n",
       "      <th>1293</th>\n",
       "      <td>cpd10162[c]</td>\n",
       "      <td>(R)-3-Hydroxy-3-methyl-2-oxopentanoate</td>\n",
       "      <td>C6H9O4</td>\n",
       "      <td>-1</td>\n",
       "      <td>cytosol</td>\n",
       "      <td>C14463</td>\n",
       "      <td>3hmop</td>\n",
       "      <td>NaN</td>\n",
       "    </tr>\n",
       "    <tr>\n",
       "      <th>1294</th>\n",
       "      <td>cpd02569[c]</td>\n",
       "      <td>2-Oxo-3-hydroxyisovalerate</td>\n",
       "      <td>C5H7O4</td>\n",
       "      <td>-1</td>\n",
       "      <td>cytosol</td>\n",
       "      <td>C04181</td>\n",
       "      <td>3hmoa</td>\n",
       "      <td>NaN</td>\n",
       "    </tr>\n",
       "  </tbody>\n",
       "</table>\n",
       "</div>"
      ],
      "text/plain": [
       "     Abbreviation                                    Name Formula (Charged)  \\\n",
       "1290  cpd01700[c]                           D-Citramalate             C5H6O   \n",
       "1291  cpd03593[c]                D-erythro-3-Methylmalate            C5H6O5   \n",
       "1292  cpd02605[c]              2-isopropyl-3-oxosuccinate            C7H8O5   \n",
       "1293  cpd10162[c]  (R)-3-Hydroxy-3-methyl-2-oxopentanoate            C6H9O4   \n",
       "1294  cpd02569[c]              2-Oxo-3-hydroxyisovalerate            C5H7O4   \n",
       "\n",
       "      Charge Compartment KEGG ID Bigg ID Remark  \n",
       "1290      -2     cytosol  C02612    citm    NaN  \n",
       "1291      -2     cytosol  C06032  r3mmal    NaN  \n",
       "1292      -2     cytosol  C04236  3c4mop    NaN  \n",
       "1293      -1     cytosol  C14463   3hmop    NaN  \n",
       "1294      -1     cytosol  C04181   3hmoa    NaN  "
      ]
     },
     "execution_count": 4,
     "metadata": {},
     "output_type": "execute_result"
    }
   ],
   "source": [
    "# Add the right compartment to the column - according to [c] or [e]-tag on the metabolites\n",
    "metabolites.loc[metabolites['Abbreviation'].str.contains('\\[c\\]'), 'Compartment'] = 'cytosol'\n",
    "metabolites.loc[metabolites['Abbreviation'].str.contains('\\[e\\]'), 'Compartment'] = 'extracellular'\n",
    "metabolites.tail()"
   ]
  },
  {
   "cell_type": "code",
   "execution_count": 5,
   "metadata": {},
   "outputs": [
    {
     "data": {
      "text/html": [
       "<div>\n",
       "<style scoped>\n",
       "    .dataframe tbody tr th:only-of-type {\n",
       "        vertical-align: middle;\n",
       "    }\n",
       "\n",
       "    .dataframe tbody tr th {\n",
       "        vertical-align: top;\n",
       "    }\n",
       "\n",
       "    .dataframe thead th {\n",
       "        text-align: right;\n",
       "    }\n",
       "</style>\n",
       "<table border=\"1\" class=\"dataframe\">\n",
       "  <thead>\n",
       "    <tr style=\"text-align: right;\">\n",
       "      <th></th>\n",
       "      <th>Abbreviation</th>\n",
       "      <th>Name</th>\n",
       "      <th>Formula (Charged)</th>\n",
       "      <th>Charge</th>\n",
       "      <th>Compartment</th>\n",
       "      <th>KEGG ID</th>\n",
       "      <th>Bigg ID</th>\n",
       "      <th>Remark</th>\n",
       "    </tr>\n",
       "  </thead>\n",
       "  <tbody>\n",
       "    <tr>\n",
       "      <th>1290</th>\n",
       "      <td>cpd01700_c</td>\n",
       "      <td>D-Citramalate</td>\n",
       "      <td>C5H6O</td>\n",
       "      <td>-2</td>\n",
       "      <td>cytosol</td>\n",
       "      <td>C02612</td>\n",
       "      <td>citm</td>\n",
       "      <td>NaN</td>\n",
       "    </tr>\n",
       "    <tr>\n",
       "      <th>1291</th>\n",
       "      <td>cpd03593_c</td>\n",
       "      <td>D-erythro-3-Methylmalate</td>\n",
       "      <td>C5H6O5</td>\n",
       "      <td>-2</td>\n",
       "      <td>cytosol</td>\n",
       "      <td>C06032</td>\n",
       "      <td>r3mmal</td>\n",
       "      <td>NaN</td>\n",
       "    </tr>\n",
       "    <tr>\n",
       "      <th>1292</th>\n",
       "      <td>cpd02605_c</td>\n",
       "      <td>2-isopropyl-3-oxosuccinate</td>\n",
       "      <td>C7H8O5</td>\n",
       "      <td>-2</td>\n",
       "      <td>cytosol</td>\n",
       "      <td>C04236</td>\n",
       "      <td>3c4mop</td>\n",
       "      <td>NaN</td>\n",
       "    </tr>\n",
       "    <tr>\n",
       "      <th>1293</th>\n",
       "      <td>cpd10162_c</td>\n",
       "      <td>(R)-3-Hydroxy-3-methyl-2-oxopentanoate</td>\n",
       "      <td>C6H9O4</td>\n",
       "      <td>-1</td>\n",
       "      <td>cytosol</td>\n",
       "      <td>C14463</td>\n",
       "      <td>3hmop</td>\n",
       "      <td>NaN</td>\n",
       "    </tr>\n",
       "    <tr>\n",
       "      <th>1294</th>\n",
       "      <td>cpd02569_c</td>\n",
       "      <td>2-Oxo-3-hydroxyisovalerate</td>\n",
       "      <td>C5H7O4</td>\n",
       "      <td>-1</td>\n",
       "      <td>cytosol</td>\n",
       "      <td>C04181</td>\n",
       "      <td>3hmoa</td>\n",
       "      <td>NaN</td>\n",
       "    </tr>\n",
       "  </tbody>\n",
       "</table>\n",
       "</div>"
      ],
      "text/plain": [
       "     Abbreviation                                    Name Formula (Charged)  \\\n",
       "1290   cpd01700_c                           D-Citramalate             C5H6O   \n",
       "1291   cpd03593_c                D-erythro-3-Methylmalate            C5H6O5   \n",
       "1292   cpd02605_c              2-isopropyl-3-oxosuccinate            C7H8O5   \n",
       "1293   cpd10162_c  (R)-3-Hydroxy-3-methyl-2-oxopentanoate            C6H9O4   \n",
       "1294   cpd02569_c              2-Oxo-3-hydroxyisovalerate            C5H7O4   \n",
       "\n",
       "      Charge Compartment KEGG ID Bigg ID Remark  \n",
       "1290      -2     cytosol  C02612    citm    NaN  \n",
       "1291      -2     cytosol  C06032  r3mmal    NaN  \n",
       "1292      -2     cytosol  C04236  3c4mop    NaN  \n",
       "1293      -1     cytosol  C14463   3hmop    NaN  \n",
       "1294      -1     cytosol  C04181   3hmoa    NaN  "
      ]
     },
     "execution_count": 5,
     "metadata": {},
     "output_type": "execute_result"
    }
   ],
   "source": [
    "#Change the compartment tag from \"\"[c]\"\" to \"_c\" and \"[\"e]\"\" to \"_e\"\n",
    "metabolites.loc[metabolites['Abbreviation'].str.contains('\\[e\\]'), 'Abbreviation'] = metabolites['Abbreviation'].str[:-3]+\"_e\"\n",
    "metabolites.loc[metabolites['Abbreviation'].str.contains('\\[c\\]'), 'Abbreviation'] = metabolites['Abbreviation'].str[:-3]+\"_c\"\n",
    "metabolites.tail()"
   ]
  },
  {
   "cell_type": "code",
   "execution_count": 6,
   "metadata": {},
   "outputs": [],
   "source": [
    "# Get rid of float(NaN) in Bigg IDs -> otherwise adding annotation fails\n",
    "for i in range(len(metabolites)):\n",
    "    if type(metabolites.loc[i]['Bigg ID']) != str:\n",
    "        metabolites.loc[i, 'Bigg ID'] = str('')"
   ]
  },
  {
   "cell_type": "markdown",
   "metadata": {},
   "source": [
    "## Read in the reactions file"
   ]
  },
  {
   "cell_type": "code",
   "execution_count": 7,
   "metadata": {},
   "outputs": [
    {
     "data": {
      "text/html": [
       "<div>\n",
       "<style scoped>\n",
       "    .dataframe tbody tr th:only-of-type {\n",
       "        vertical-align: middle;\n",
       "    }\n",
       "\n",
       "    .dataframe tbody tr th {\n",
       "        vertical-align: top;\n",
       "    }\n",
       "\n",
       "    .dataframe thead th {\n",
       "        text-align: right;\n",
       "    }\n",
       "</style>\n",
       "<table border=\"1\" class=\"dataframe\">\n",
       "  <thead>\n",
       "    <tr style=\"text-align: right;\">\n",
       "      <th></th>\n",
       "      <th>Abbreviation</th>\n",
       "      <th>Name</th>\n",
       "      <th>Reaction</th>\n",
       "      <th>Reactions with MetNames</th>\n",
       "      <th>GPR</th>\n",
       "      <th>Genes</th>\n",
       "      <th>Protein</th>\n",
       "      <th>Subsystems</th>\n",
       "      <th>Reversible</th>\n",
       "      <th>Lower bound</th>\n",
       "      <th>Upper bound</th>\n",
       "      <th>Objective</th>\n",
       "      <th>Confidence Score</th>\n",
       "      <th>EC. Number</th>\n",
       "      <th>Notes</th>\n",
       "      <th>References</th>\n",
       "    </tr>\n",
       "  </thead>\n",
       "  <tbody>\n",
       "    <tr>\n",
       "      <th>0</th>\n",
       "      <td>rxn03253</td>\n",
       "      <td>acyl-CoA dehydrogenase (decanoyl-CoA)</td>\n",
       "      <td>cpd00015[c] + cpd03128[c] -&gt; cpd00982[c] + cpd...</td>\n",
       "      <td>FAD + Decanoyl-CoA -&gt; FADH2 + (2E)-Decenoyl-CoA</td>\n",
       "      <td>((PA14_52900) or (PA14_06600) or (PA14_31580))</td>\n",
       "      <td>PA14_52900 PA14_06600 PA14_31580</td>\n",
       "      <td>NaN</td>\n",
       "      <td>Fatty acid metabolism</td>\n",
       "      <td>0</td>\n",
       "      <td>0.0</td>\n",
       "      <td>1000.0</td>\n",
       "      <td>0</td>\n",
       "      <td>NaN</td>\n",
       "      <td>NaN</td>\n",
       "      <td>*JAB 06/23/14 - switched out NAD for FAD based...</td>\n",
       "      <td>Guzik, M. W., Narancic, T., Ilic-Tomic, T., Vo...</td>\n",
       "    </tr>\n",
       "    <tr>\n",
       "      <th>1</th>\n",
       "      <td>rxn02720</td>\n",
       "      <td>acyl-CoA dehydrogenase (dodecanoyl-CoA)</td>\n",
       "      <td>cpd00015[c] + cpd01260[c] -&gt; cpd00982[c] + cpd...</td>\n",
       "      <td>FAD + Lauroyl-CoA -&gt; FADH2 + (2E)-Dodecenoyl-CoA</td>\n",
       "      <td>((PA14_52900) or (PA14_06600) or (PA14_31580))</td>\n",
       "      <td>PA14_52900 PA14_06600 PA14_31580</td>\n",
       "      <td>NaN</td>\n",
       "      <td>Fatty acid metabolism</td>\n",
       "      <td>0</td>\n",
       "      <td>0.0</td>\n",
       "      <td>1000.0</td>\n",
       "      <td>0</td>\n",
       "      <td>NaN</td>\n",
       "      <td>NaN</td>\n",
       "      <td>*JAB 06/23/14 - switched out NAD for FAD based...</td>\n",
       "      <td>Guzik, M. W., Narancic, T., Ilic-Tomic, T., Vo...</td>\n",
       "    </tr>\n",
       "  </tbody>\n",
       "</table>\n",
       "</div>"
      ],
      "text/plain": [
       "  Abbreviation                                     Name  \\\n",
       "0     rxn03253    acyl-CoA dehydrogenase (decanoyl-CoA)   \n",
       "1     rxn02720  acyl-CoA dehydrogenase (dodecanoyl-CoA)   \n",
       "\n",
       "                                            Reaction  \\\n",
       "0  cpd00015[c] + cpd03128[c] -> cpd00982[c] + cpd...   \n",
       "1  cpd00015[c] + cpd01260[c] -> cpd00982[c] + cpd...   \n",
       "\n",
       "                            Reactions with MetNames  \\\n",
       "0   FAD + Decanoyl-CoA -> FADH2 + (2E)-Decenoyl-CoA   \n",
       "1  FAD + Lauroyl-CoA -> FADH2 + (2E)-Dodecenoyl-CoA   \n",
       "\n",
       "                                              GPR  \\\n",
       "0  ((PA14_52900) or (PA14_06600) or (PA14_31580))   \n",
       "1  ((PA14_52900) or (PA14_06600) or (PA14_31580))   \n",
       "\n",
       "                              Genes Protein             Subsystems  \\\n",
       "0  PA14_52900 PA14_06600 PA14_31580     NaN  Fatty acid metabolism   \n",
       "1  PA14_52900 PA14_06600 PA14_31580     NaN  Fatty acid metabolism   \n",
       "\n",
       "   Reversible  Lower bound  Upper bound  Objective  Confidence Score  \\\n",
       "0           0          0.0       1000.0          0               NaN   \n",
       "1           0          0.0       1000.0          0               NaN   \n",
       "\n",
       "  EC. Number                                              Notes  \\\n",
       "0        NaN  *JAB 06/23/14 - switched out NAD for FAD based...   \n",
       "1        NaN  *JAB 06/23/14 - switched out NAD for FAD based...   \n",
       "\n",
       "                                          References  \n",
       "0  Guzik, M. W., Narancic, T., Ilic-Tomic, T., Vo...  \n",
       "1  Guzik, M. W., Narancic, T., Ilic-Tomic, T., Vo...  "
      ]
     },
     "execution_count": 7,
     "metadata": {},
     "output_type": "execute_result"
    }
   ],
   "source": [
    "reactions = pd.read_excel('reactions_extended.xlsx')\n",
    "reactions.head(2)"
   ]
  },
  {
   "cell_type": "code",
   "execution_count": 8,
   "metadata": {},
   "outputs": [
    {
     "data": {
      "text/html": [
       "<div>\n",
       "<style scoped>\n",
       "    .dataframe tbody tr th:only-of-type {\n",
       "        vertical-align: middle;\n",
       "    }\n",
       "\n",
       "    .dataframe tbody tr th {\n",
       "        vertical-align: top;\n",
       "    }\n",
       "\n",
       "    .dataframe thead th {\n",
       "        text-align: right;\n",
       "    }\n",
       "</style>\n",
       "<table border=\"1\" class=\"dataframe\">\n",
       "  <thead>\n",
       "    <tr style=\"text-align: right;\">\n",
       "      <th></th>\n",
       "      <th>Abbreviation</th>\n",
       "      <th>Name</th>\n",
       "      <th>Reaction</th>\n",
       "      <th>GPR</th>\n",
       "      <th>Subsystems</th>\n",
       "      <th>Reversible</th>\n",
       "      <th>Lower bound</th>\n",
       "      <th>Upper bound</th>\n",
       "      <th>Objective</th>\n",
       "      <th>EC. Number</th>\n",
       "      <th>Notes</th>\n",
       "      <th>References</th>\n",
       "    </tr>\n",
       "  </thead>\n",
       "  <tbody>\n",
       "    <tr>\n",
       "      <th>0</th>\n",
       "      <td>rxn03253</td>\n",
       "      <td>acyl-CoA dehydrogenase (decanoyl-CoA)</td>\n",
       "      <td>cpd00015[c] + cpd03128[c] -&gt; cpd00982[c] + cpd...</td>\n",
       "      <td>((PA14_52900) or (PA14_06600) or (PA14_31580))</td>\n",
       "      <td>Fatty acid metabolism</td>\n",
       "      <td>0</td>\n",
       "      <td>0.0</td>\n",
       "      <td>1000.0</td>\n",
       "      <td>0</td>\n",
       "      <td>NaN</td>\n",
       "      <td>*JAB 06/23/14 - switched out NAD for FAD based...</td>\n",
       "      <td>Guzik, M. W., Narancic, T., Ilic-Tomic, T., Vo...</td>\n",
       "    </tr>\n",
       "    <tr>\n",
       "      <th>1</th>\n",
       "      <td>rxn02720</td>\n",
       "      <td>acyl-CoA dehydrogenase (dodecanoyl-CoA)</td>\n",
       "      <td>cpd00015[c] + cpd01260[c] -&gt; cpd00982[c] + cpd...</td>\n",
       "      <td>((PA14_52900) or (PA14_06600) or (PA14_31580))</td>\n",
       "      <td>Fatty acid metabolism</td>\n",
       "      <td>0</td>\n",
       "      <td>0.0</td>\n",
       "      <td>1000.0</td>\n",
       "      <td>0</td>\n",
       "      <td>NaN</td>\n",
       "      <td>*JAB 06/23/14 - switched out NAD for FAD based...</td>\n",
       "      <td>Guzik, M. W., Narancic, T., Ilic-Tomic, T., Vo...</td>\n",
       "    </tr>\n",
       "  </tbody>\n",
       "</table>\n",
       "</div>"
      ],
      "text/plain": [
       "  Abbreviation                                     Name  \\\n",
       "0     rxn03253    acyl-CoA dehydrogenase (decanoyl-CoA)   \n",
       "1     rxn02720  acyl-CoA dehydrogenase (dodecanoyl-CoA)   \n",
       "\n",
       "                                            Reaction  \\\n",
       "0  cpd00015[c] + cpd03128[c] -> cpd00982[c] + cpd...   \n",
       "1  cpd00015[c] + cpd01260[c] -> cpd00982[c] + cpd...   \n",
       "\n",
       "                                              GPR             Subsystems  \\\n",
       "0  ((PA14_52900) or (PA14_06600) or (PA14_31580))  Fatty acid metabolism   \n",
       "1  ((PA14_52900) or (PA14_06600) or (PA14_31580))  Fatty acid metabolism   \n",
       "\n",
       "   Reversible  Lower bound  Upper bound  Objective EC. Number  \\\n",
       "0           0          0.0       1000.0          0        NaN   \n",
       "1           0          0.0       1000.0          0        NaN   \n",
       "\n",
       "                                               Notes  \\\n",
       "0  *JAB 06/23/14 - switched out NAD for FAD based...   \n",
       "1  *JAB 06/23/14 - switched out NAD for FAD based...   \n",
       "\n",
       "                                          References  \n",
       "0  Guzik, M. W., Narancic, T., Ilic-Tomic, T., Vo...  \n",
       "1  Guzik, M. W., Narancic, T., Ilic-Tomic, T., Vo...  "
      ]
     },
     "execution_count": 8,
     "metadata": {},
     "output_type": "execute_result"
    }
   ],
   "source": [
    "#Delete columns that are not needed\n",
    "reactions = reactions.drop(['Reactions with MetNames', 'Genes', 'Protein', 'Confidence Score'], axis=1)\n",
    "reactions.head(2)"
   ]
  },
  {
   "cell_type": "code",
   "execution_count": 9,
   "metadata": {},
   "outputs": [
    {
     "data": {
      "text/html": [
       "<div>\n",
       "<style scoped>\n",
       "    .dataframe tbody tr th:only-of-type {\n",
       "        vertical-align: middle;\n",
       "    }\n",
       "\n",
       "    .dataframe tbody tr th {\n",
       "        vertical-align: top;\n",
       "    }\n",
       "\n",
       "    .dataframe thead th {\n",
       "        text-align: right;\n",
       "    }\n",
       "</style>\n",
       "<table border=\"1\" class=\"dataframe\">\n",
       "  <thead>\n",
       "    <tr style=\"text-align: right;\">\n",
       "      <th></th>\n",
       "      <th>Abbreviation</th>\n",
       "      <th>Name</th>\n",
       "      <th>Reaction</th>\n",
       "      <th>GPR</th>\n",
       "      <th>Subsystems</th>\n",
       "      <th>Reversible</th>\n",
       "      <th>Lower bound</th>\n",
       "      <th>Upper bound</th>\n",
       "      <th>Objective</th>\n",
       "      <th>EC. Number</th>\n",
       "      <th>Notes</th>\n",
       "      <th>References</th>\n",
       "    </tr>\n",
       "  </thead>\n",
       "  <tbody>\n",
       "    <tr>\n",
       "      <th>0</th>\n",
       "      <td>rxn03253</td>\n",
       "      <td>acyl-CoA dehydrogenase (decanoyl-CoA)</td>\n",
       "      <td>cpd00015_c + cpd03128_c -&gt; cpd00982_c + cpd031...</td>\n",
       "      <td>((PA14_52900) or (PA14_06600) or (PA14_31580))</td>\n",
       "      <td>Fatty acid metabolism</td>\n",
       "      <td>0</td>\n",
       "      <td>0.0</td>\n",
       "      <td>1000.0</td>\n",
       "      <td>0</td>\n",
       "      <td>NaN</td>\n",
       "      <td>*JAB 06/23/14 - switched out NAD for FAD based...</td>\n",
       "      <td>Guzik, M. W., Narancic, T., Ilic-Tomic, T., Vo...</td>\n",
       "    </tr>\n",
       "    <tr>\n",
       "      <th>1</th>\n",
       "      <td>rxn02720</td>\n",
       "      <td>acyl-CoA dehydrogenase (dodecanoyl-CoA)</td>\n",
       "      <td>cpd00015_c + cpd01260_c -&gt; cpd00982_c + cpd020...</td>\n",
       "      <td>((PA14_52900) or (PA14_06600) or (PA14_31580))</td>\n",
       "      <td>Fatty acid metabolism</td>\n",
       "      <td>0</td>\n",
       "      <td>0.0</td>\n",
       "      <td>1000.0</td>\n",
       "      <td>0</td>\n",
       "      <td>NaN</td>\n",
       "      <td>*JAB 06/23/14 - switched out NAD for FAD based...</td>\n",
       "      <td>Guzik, M. W., Narancic, T., Ilic-Tomic, T., Vo...</td>\n",
       "    </tr>\n",
       "  </tbody>\n",
       "</table>\n",
       "</div>"
      ],
      "text/plain": [
       "  Abbreviation                                     Name  \\\n",
       "0     rxn03253    acyl-CoA dehydrogenase (decanoyl-CoA)   \n",
       "1     rxn02720  acyl-CoA dehydrogenase (dodecanoyl-CoA)   \n",
       "\n",
       "                                            Reaction  \\\n",
       "0  cpd00015_c + cpd03128_c -> cpd00982_c + cpd031...   \n",
       "1  cpd00015_c + cpd01260_c -> cpd00982_c + cpd020...   \n",
       "\n",
       "                                              GPR             Subsystems  \\\n",
       "0  ((PA14_52900) or (PA14_06600) or (PA14_31580))  Fatty acid metabolism   \n",
       "1  ((PA14_52900) or (PA14_06600) or (PA14_31580))  Fatty acid metabolism   \n",
       "\n",
       "   Reversible  Lower bound  Upper bound  Objective EC. Number  \\\n",
       "0           0          0.0       1000.0          0        NaN   \n",
       "1           0          0.0       1000.0          0        NaN   \n",
       "\n",
       "                                               Notes  \\\n",
       "0  *JAB 06/23/14 - switched out NAD for FAD based...   \n",
       "1  *JAB 06/23/14 - switched out NAD for FAD based...   \n",
       "\n",
       "                                          References  \n",
       "0  Guzik, M. W., Narancic, T., Ilic-Tomic, T., Vo...  \n",
       "1  Guzik, M. W., Narancic, T., Ilic-Tomic, T., Vo...  "
      ]
     },
     "execution_count": 9,
     "metadata": {},
     "output_type": "execute_result"
    }
   ],
   "source": [
    "#Change compartment-tag\n",
    "for i in range(len(reactions)):\n",
    "    if '[c]' in reactions['Reaction'][i]:\n",
    "        reactions.loc[i, 'Reaction'] = reactions['Reaction'][i].replace('[c]', '_c')\n",
    "    \n",
    "    if '[e]' in reactions['Reaction'][i]:\n",
    "        reactions.loc[i, 'Reaction'] =  reactions['Reaction'][i].replace('[e]', '_e')\n",
    "        \n",
    "reactions.head(2)"
   ]
  },
  {
   "cell_type": "code",
   "execution_count": 10,
   "metadata": {},
   "outputs": [
    {
     "data": {
      "text/html": [
       "<div>\n",
       "<style scoped>\n",
       "    .dataframe tbody tr th:only-of-type {\n",
       "        vertical-align: middle;\n",
       "    }\n",
       "\n",
       "    .dataframe tbody tr th {\n",
       "        vertical-align: top;\n",
       "    }\n",
       "\n",
       "    .dataframe thead th {\n",
       "        text-align: right;\n",
       "    }\n",
       "</style>\n",
       "<table border=\"1\" class=\"dataframe\">\n",
       "  <thead>\n",
       "    <tr style=\"text-align: right;\">\n",
       "      <th></th>\n",
       "      <th>Abbreviation</th>\n",
       "      <th>Name</th>\n",
       "      <th>Reaction</th>\n",
       "      <th>GPR</th>\n",
       "      <th>Subsystems</th>\n",
       "      <th>Reversible</th>\n",
       "      <th>Lower bound</th>\n",
       "      <th>Upper bound</th>\n",
       "      <th>Objective</th>\n",
       "      <th>EC. Number</th>\n",
       "      <th>Notes</th>\n",
       "      <th>References</th>\n",
       "    </tr>\n",
       "  </thead>\n",
       "  <tbody>\n",
       "    <tr>\n",
       "      <th>0</th>\n",
       "      <td>rxn03253</td>\n",
       "      <td>acyl-CoA dehydrogenase (decanoyl-CoA)</td>\n",
       "      <td>cpd00015_c + cpd03128_c -&gt; cpd00982_c + cpd031...</td>\n",
       "      <td>PA14_52900 or PA14_06600 or PA14_31580</td>\n",
       "      <td>Fatty acid metabolism</td>\n",
       "      <td>0</td>\n",
       "      <td>0.0</td>\n",
       "      <td>1000.0</td>\n",
       "      <td>0</td>\n",
       "      <td>NaN</td>\n",
       "      <td>*JAB 06/23/14 - switched out NAD for FAD based...</td>\n",
       "      <td>Guzik, M. W., Narancic, T., Ilic-Tomic, T., Vo...</td>\n",
       "    </tr>\n",
       "    <tr>\n",
       "      <th>1</th>\n",
       "      <td>rxn02720</td>\n",
       "      <td>acyl-CoA dehydrogenase (dodecanoyl-CoA)</td>\n",
       "      <td>cpd00015_c + cpd01260_c -&gt; cpd00982_c + cpd020...</td>\n",
       "      <td>PA14_52900 or PA14_06600 or PA14_31580</td>\n",
       "      <td>Fatty acid metabolism</td>\n",
       "      <td>0</td>\n",
       "      <td>0.0</td>\n",
       "      <td>1000.0</td>\n",
       "      <td>0</td>\n",
       "      <td>NaN</td>\n",
       "      <td>*JAB 06/23/14 - switched out NAD for FAD based...</td>\n",
       "      <td>Guzik, M. W., Narancic, T., Ilic-Tomic, T., Vo...</td>\n",
       "    </tr>\n",
       "  </tbody>\n",
       "</table>\n",
       "</div>"
      ],
      "text/plain": [
       "  Abbreviation                                     Name  \\\n",
       "0     rxn03253    acyl-CoA dehydrogenase (decanoyl-CoA)   \n",
       "1     rxn02720  acyl-CoA dehydrogenase (dodecanoyl-CoA)   \n",
       "\n",
       "                                            Reaction  \\\n",
       "0  cpd00015_c + cpd03128_c -> cpd00982_c + cpd031...   \n",
       "1  cpd00015_c + cpd01260_c -> cpd00982_c + cpd020...   \n",
       "\n",
       "                                      GPR             Subsystems  Reversible  \\\n",
       "0  PA14_52900 or PA14_06600 or PA14_31580  Fatty acid metabolism           0   \n",
       "1  PA14_52900 or PA14_06600 or PA14_31580  Fatty acid metabolism           0   \n",
       "\n",
       "   Lower bound  Upper bound  Objective EC. Number  \\\n",
       "0          0.0       1000.0          0        NaN   \n",
       "1          0.0       1000.0          0        NaN   \n",
       "\n",
       "                                               Notes  \\\n",
       "0  *JAB 06/23/14 - switched out NAD for FAD based...   \n",
       "1  *JAB 06/23/14 - switched out NAD for FAD based...   \n",
       "\n",
       "                                          References  \n",
       "0  Guzik, M. W., Narancic, T., Ilic-Tomic, T., Vo...  \n",
       "1  Guzik, M. W., Narancic, T., Ilic-Tomic, T., Vo...  "
      ]
     },
     "execution_count": 10,
     "metadata": {},
     "output_type": "execute_result"
    }
   ],
   "source": [
    "#Change GPR annotation\n",
    "for i in range(len(reactions)):\n",
    "    if type(reactions['GPR'][i]) is float:\n",
    "        continue\n",
    "    else:\n",
    "        if '(' in reactions['GPR'][i]:\n",
    "            reactions.loc[i, 'GPR'] = reactions['GPR'][i].replace('(', '')\n",
    "        if ')' in reactions['GPR'][i]:\n",
    "            reactions.loc[i, 'GPR'] = reactions['GPR'][i].replace(')', '')\n",
    "reactions.head(2)"
   ]
  },
  {
   "cell_type": "code",
   "execution_count": 11,
   "metadata": {},
   "outputs": [],
   "source": [
    "#Change compartment-tag\n",
    "for i in range(len(reactions)):\n",
    "    if '(e)' in reactions['Abbreviation'][i]:\n",
    "        reactions.loc[i, 'Abbreviation'] =  reactions['Abbreviation'][i].replace('(e)', '_e')\n",
    "\n",
    "    if '(c)' in reactions['Abbreviation'][i]:\n",
    "        reactions.loc[i, 'Abbreviation'] =  reactions['Abbreviation'][i].replace('(c)', '_c')"
   ]
  },
  {
   "cell_type": "code",
   "execution_count": 12,
   "metadata": {},
   "outputs": [],
   "source": [
    "def get_sub_and_prod(index):\n",
    "    '''\n",
    "    Get the substrate and product of a reaction using the index of the reaction\n",
    "    '''\n",
    "    \n",
    "    react = reactions.loc[index]['Reaction']\n",
    "    if '->' in react:\n",
    "        split = react.split('->')\n",
    "    elif ('<=>') in react: \n",
    "        split = react.split('<=>')\n",
    "    substrates = split[0].split('+')\n",
    "    products = split[1].split('+')\n",
    "\n",
    "    substrates = [item.strip() for item in substrates]\n",
    "    products = [item.strip() for item in products]\n",
    "\n",
    "    return(substrates, products)"
   ]
  },
  {
   "cell_type": "code",
   "execution_count": 13,
   "metadata": {},
   "outputs": [],
   "source": [
    "def get_factors(substrates):\n",
    "    '''\n",
    "    Get the factors of the substrates of the reactions\n",
    "    '''\n",
    "    substrates_factor = []\n",
    "    plane_substrates = []\n",
    "\n",
    "    for sub in substrates: \n",
    "        splitting = sub.split()\n",
    "        #print(len(splitting))\n",
    "        if len(splitting)== 1:\n",
    "            substrates_factor.append(1)\n",
    "            plane_substrates.append(sub)\n",
    "        elif len(splitting) == 2:\n",
    "            substrates_factor.append(float(splitting[0]))\n",
    "            plane_substrates.append(splitting[1])\n",
    "        elif len(splitting) == 0:\n",
    "            continue\n",
    "        else:\n",
    "            print('ERROR!', sub)\n",
    "\n",
    "    #print(substrates)\n",
    "    #print(plane_substrates)\n",
    "    #print(substrates_factor)\n",
    "    return(plane_substrates, substrates_factor)"
   ]
  },
  {
   "cell_type": "code",
   "execution_count": 14,
   "metadata": {},
   "outputs": [
    {
     "name": "stdout",
     "output_type": "stream",
     "text": [
      "['0.5 cpd00080_c', '0.13 cpd15239_c', '0.03 cpd15268_c', '0.33 cpd15277_c', '0.51 cpd15572_c']\n",
      "['0.01 cpd11422_c', 'cpd11493_c']\n"
     ]
    }
   ],
   "source": [
    "#Testing of the function\n",
    "substrates, products = get_sub_and_prod(323)\n",
    "print(substrates)\n",
    "print(products)"
   ]
  },
  {
   "cell_type": "code",
   "execution_count": 15,
   "metadata": {},
   "outputs": [
    {
     "name": "stdout",
     "output_type": "stream",
     "text": [
      "['cpd00080_c', 'cpd15239_c', 'cpd15268_c', 'cpd15277_c', 'cpd15572_c']\n",
      "[0.5, 0.13, 0.03, 0.33, 0.51]\n"
     ]
    }
   ],
   "source": [
    "plane_sub, sub_factor = get_factors(substrates)\n",
    "print(plane_sub)\n",
    "print(sub_factor)"
   ]
  },
  {
   "cell_type": "markdown",
   "metadata": {},
   "source": [
    "## Create a new, empty model"
   ]
  },
  {
   "cell_type": "code",
   "execution_count": 16,
   "metadata": {},
   "outputs": [
    {
     "name": "stdout",
     "output_type": "stream",
     "text": [
      "0 reactions initially\n",
      "0 metabolites initially\n",
      "0 genes initially\n"
     ]
    }
   ],
   "source": [
    "PA14_model = Model('PA14_model')\n",
    "print('%i reactions initially' % len(PA14_model.reactions))\n",
    "print('%i metabolites initially' % len(PA14_model.metabolites))\n",
    "print('%i genes initially' % len(PA14_model.genes))"
   ]
  },
  {
   "cell_type": "code",
   "execution_count": 17,
   "metadata": {},
   "outputs": [],
   "source": [
    "for index in range(len(reactions)):\n",
    "    ID = reactions.loc[index]['Abbreviation']\n",
    "    reaction = Reaction(ID)\n",
    "    reaction.name = reactions.loc[index]['Name']\n",
    "    reaction.subsystem = reactions.loc[index]['Subsystems']\n",
    "    reaction.lower_bound = reactions.loc[index]['Lower bound']\n",
    "    reaction.upper_bound = reactions.loc[index]['Upper bound']\n",
    "    if type(reactions.loc[index]['GPR']) != float:\n",
    "        reaction.gene_reaction_rule = reactions.loc[index]['GPR']\n",
    "    \n",
    "    substrates, products = get_sub_and_prod(index)\n",
    "\n",
    "    plane_sub, factors_sub = get_factors(substrates)\n",
    "    plane_prod, factors_prod = get_factors(products)\n",
    "    \n",
    "    for i in range(len(plane_sub)):\n",
    "        reaction.add_metabolites({\n",
    "            Metabolite(plane_sub[i]): -factors_sub[i]\n",
    "        })\n",
    "    for i in range(len(plane_prod)):\n",
    "        reaction.add_metabolites({\n",
    "            Metabolite(plane_prod[i]): factors_prod[i]\n",
    "        })\n",
    "    #print(index, ID, reaction.reaction)\n",
    "    PA14_model.add_reactions([reaction])"
   ]
  },
  {
   "cell_type": "code",
   "execution_count": 18,
   "metadata": {},
   "outputs": [
    {
     "name": "stdout",
     "output_type": "stream",
     "text": [
      "1518 reactions\n",
      "1295 metabolites\n",
      "1137 genes\n"
     ]
    }
   ],
   "source": [
    "print('%i reactions' % len(PA14_model.reactions))\n",
    "print('%i metabolites' % len(PA14_model.metabolites))\n",
    "print('%i genes' % len(PA14_model.genes))"
   ]
  },
  {
   "cell_type": "code",
   "execution_count": 19,
   "metadata": {},
   "outputs": [],
   "source": [
    "#Create a metabolite object for all the listed metabolites\n",
    "for index in range(len(metabolites)): \n",
    "    ID = metabolites.loc[index]['Abbreviation']\n",
    "    PA14_model.metabolites.get_by_id(ID).name = metabolites.loc[index]['Name']\n",
    "    PA14_model.metabolites.get_by_id(ID).formula = metabolites.loc[index]['Formula (Charged)']\n",
    "    PA14_model.metabolites.get_by_id(ID).compartment = metabolites.loc[index]['Compartment']"
   ]
  },
  {
   "cell_type": "code",
   "execution_count": 20,
   "metadata": {},
   "outputs": [
    {
     "data": {
      "text/plain": [
       "0.0"
      ]
     },
     "execution_count": 20,
     "metadata": {},
     "output_type": "execute_result"
    }
   ],
   "source": [
    "#PA14_model.objective = \"PA14_Biomass\"\n",
    "PA14_model.optimize().objective_value"
   ]
  },
  {
   "cell_type": "code",
   "execution_count": 21,
   "metadata": {},
   "outputs": [],
   "source": [
    "for react in PA14_model.reactions:\n",
    "    if 'EX' in react.id:\n",
    "        react.lower_bound = 0\n",
    "        react.upper_bound = 1000"
   ]
  },
  {
   "cell_type": "code",
   "execution_count": 22,
   "metadata": {},
   "outputs": [],
   "source": [
    "'''Definition of Medium and non-active reactions'''\n",
    "medium = ['EX CO2 e', 'EX D-Glucose e', 'EX D-Lactate e', 'EX Fe2+ e', 'EX Glycine e', \n",
    "          'EX H+ e', 'EX H2O e', 'EX K+ e', 'EX L-Alanine e', 'EX L-Arginine e', 'EX L-Aspartate e', \n",
    "          'EX L-Cysteine e', 'EX L-Glutamate e', 'EX L-Histidine e', 'EX L-Isoleucine e', 'EX L-Leucine e', \n",
    "          'EX L-Lysine e', 'EX L-Methionine e', 'EX L-Phenylalanine e', 'EX L-Proline e', 'EX L-Serine e', \n",
    "          'EX L-Threonine e', 'EX L-Tryptophan e', 'EX L-Tyrosine e', 'EX L-Valine e', 'EX Mg e', 'EX Na+ e', \n",
    "          'EX NH3 e', 'EX Nitrate e', 'EX Ornithine e', 'EX Phosphate e', 'EX Sulfate e']\n",
    "non_active_exchange =['Gluconate secretion', '2-ketogluconate secretion']"
   ]
  },
  {
   "cell_type": "code",
   "execution_count": 23,
   "metadata": {},
   "outputs": [],
   "source": [
    "for react in PA14_model.reactions:\n",
    "    if react.name in medium: \n",
    "        react.lower_bound = -10\n",
    "    elif react.name == 'EX O2 e':\n",
    "        react.lower_bound = -20\n",
    "    elif react.name in non_active_exchange:\n",
    "        react.lower_bound = 0\n",
    "        react.upper_bound = 0"
   ]
  },
  {
   "cell_type": "code",
   "execution_count": 24,
   "metadata": {},
   "outputs": [
    {
     "data": {
      "text/plain": [
       "18.95808787453769"
      ]
     },
     "execution_count": 24,
     "metadata": {},
     "output_type": "execute_result"
    }
   ],
   "source": [
    "PA14_model.objective = \"PA14_Biomass\"\n",
    "PA14_model.optimize().objective_value"
   ]
  },
  {
   "cell_type": "code",
   "execution_count": 25,
   "metadata": {},
   "outputs": [],
   "source": [
    "cobra.io.write_sbml_model(PA14_model, \"created_PA14.xml\")"
   ]
  },
  {
   "cell_type": "markdown",
   "metadata": {},
   "source": [
    "#### Analysing cpd11416_c = Biomass compound without a formula"
   ]
  },
  {
   "cell_type": "code",
   "execution_count": 26,
   "metadata": {},
   "outputs": [],
   "source": [
    "#from cobra.flux_analysis import (single_reaction_deletion)"
   ]
  },
  {
   "cell_type": "code",
   "execution_count": 27,
   "metadata": {},
   "outputs": [],
   "source": [
    "#with PA14_model:\n",
    "#    PA14_model.reactions.EX_cpd11416_c.knock_out()\n",
    "#    print('pfk knocked out: ', PA14_model.optimize())"
   ]
  },
  {
   "cell_type": "markdown",
   "metadata": {},
   "source": [
    "## LibSBML - extensions"
   ]
  },
  {
   "cell_type": "code",
   "execution_count": 26,
   "metadata": {},
   "outputs": [],
   "source": [
    "from libsbml import * \n",
    "reader = SBMLReader()\n",
    "document = reader.readSBMLFromFile('created_PA14.xml')\n",
    "model = document.getModel()"
   ]
  },
  {
   "cell_type": "code",
   "execution_count": 27,
   "metadata": {},
   "outputs": [
    {
     "name": "stdout",
     "output_type": "stream",
     "text": [
      "# Errors:  0\n"
     ]
    },
    {
     "data": {
      "text/plain": [
       "0"
      ]
     },
     "execution_count": 27,
     "metadata": {},
     "output_type": "execute_result"
    }
   ],
   "source": [
    "print('# Errors: ', document.getNumErrors())\n",
    "document.checkConsistency()\n",
    "document.checkL3v1Compatibility() #-> compatibility given "
   ]
  },
  {
   "cell_type": "code",
   "execution_count": 28,
   "metadata": {},
   "outputs": [
    {
     "name": "stdout",
     "output_type": "stream",
     "text": [
      "Species: 1295\n",
      "Reactions:  1518\n",
      "Compartments:  2\n"
     ]
    }
   ],
   "source": [
    "print('Species:', model.getNumSpecies())\n",
    "print('Reactions: ', model.getNumReactions())\n",
    "print('Compartments: ', model.getNumCompartments())"
   ]
  },
  {
   "cell_type": "markdown",
   "metadata": {},
   "source": [
    "# Species"
   ]
  },
  {
   "cell_type": "markdown",
   "metadata": {},
   "source": [
    "### Add Charge to species"
   ]
  },
  {
   "cell_type": "code",
   "execution_count": 29,
   "metadata": {},
   "outputs": [],
   "source": [
    "species_list = model.getListOfSpecies()\n",
    "for species in species_list:\n",
    "    splugin = species.getPlugin('fbc')\n",
    "    species_id = species.getId()[2:]\n",
    "    charge = int(metabolites.loc[metabolites['Abbreviation'] == species_id]['Charge'])\n",
    "    splugin.setCharge(charge)"
   ]
  },
  {
   "cell_type": "markdown",
   "metadata": {},
   "source": [
    "### Add Annotations to species"
   ]
  },
  {
   "cell_type": "code",
   "execution_count": 30,
   "metadata": {},
   "outputs": [],
   "source": [
    "### First: MetaID is needed to add a CV-Term\n",
    "species_list = model.getListOfSpecies()\n",
    "for species in species_list:\n",
    "    species.setMetaId(species.getId())"
   ]
  },
  {
   "cell_type": "code",
   "execution_count": 50,
   "metadata": {},
   "outputs": [],
   "source": [
    "#species_list = model.getListOfSpecies()\n",
    "#for species in species_list:\n",
    "#    species_id = species.getId()[2:]\n",
    "#    annot = metabolites.loc[metabolites['Abbreviation'] == species_id]['Bigg ID'].iloc[0]\n",
    "#    species.setAnnotation(annot)"
   ]
  },
  {
   "cell_type": "code",
   "execution_count": 31,
   "metadata": {},
   "outputs": [
    {
     "name": "stdout",
     "output_type": "stream",
     "text": [
      "1295\n",
      "1295\n"
     ]
    }
   ],
   "source": [
    "success = 0\n",
    "bigg_ids = 0\n",
    "for species in species_list:\n",
    "    species_id = species.getId()[2:]     #get the id of the reaction, without the Prefix 'R_'\n",
    "    bigg_col = metabolites.loc[metabolites['Abbreviation'] == species_id]['Bigg ID'].iloc[0] #get the content of the pandas df\n",
    "    #kegg_col = metabolites.loc[metabolites['Abbreviation'] == species_id]['KEGG ID'].iloc[0]\n",
    "    if type(bigg_col) == str:\n",
    "        bigg_ids += 1\n",
    "        cv = CVTerm()\n",
    "        cv.setQualifierType(BIOLOGICAL_QUALIFIER)\n",
    "        cv.setBiologicalQualifierType(BQB_IS)\n",
    "        cv.addResource('http://identifiers.org/bigg.metabolite/'+bigg_col)\n",
    "                \n",
    "        status = species.addCVTerm(cv)\n",
    "        if status == LIBSBML_OPERATION_SUCCESS:\n",
    "            success += 1\n",
    "        else:\n",
    "            print(species, bigg_col)\n",
    "            \n",
    "    #if type(kegg_col) == str:\n",
    "        #bigg_ids += 1\n",
    "    #    cv = CVTerm()\n",
    "     #   cv.setQualifierType(BIOLOGICAL_QUALIFIER)\n",
    "      #  cv.setBiologicalQualifierType(BQB_IS)\n",
    "       # cv.addResource('http://identifiers.org/kegg.compound/'+kegg_col)\n",
    "                \n",
    "        #status = species.addCVTerm(cv)\n",
    "        #if status == LIBSBML_OPERATION_SUCCESS:\n",
    "        #    success += 1\n",
    "        #else:\n",
    "        #    print(species, bigg_col)\n",
    "\n",
    "print(bigg_ids)           \n",
    "print(success)"
   ]
  },
  {
   "cell_type": "code",
   "execution_count": 32,
   "metadata": {},
   "outputs": [
    {
     "data": {
      "text/plain": [
       "1"
      ]
     },
     "execution_count": 32,
     "metadata": {},
     "output_type": "execute_result"
    }
   ],
   "source": [
    "newdocument = model.getSBMLDocument()\n",
    "writeSBMLToFile(newdocument,'created_PA14.xml') # 1 means success, 0 means failure"
   ]
  },
  {
   "cell_type": "markdown",
   "metadata": {},
   "source": [
    "# Groups Extension"
   ]
  },
  {
   "cell_type": "code",
   "execution_count": 33,
   "metadata": {},
   "outputs": [],
   "source": [
    "#gets the uri for the proper group versions\n",
    "#http://sbml.org/Software/libSBML/5.13.0/docs//python-api/classlibsbml_1_1_groups_extension.html\n",
    "groupextension = GroupsExtension()\n",
    "\n",
    "#http://sbml.org/Software/libSBML/5.17.0/docs//python-api/classlibsbml_1_1_groups_extension.html#a4329b4cd00a64df7b695a6d170d0a802\n",
    "#sbml level, sbml version, package version\n",
    "groupURI = groupextension.getURI(3,1,1)"
   ]
  },
  {
   "cell_type": "code",
   "execution_count": 34,
   "metadata": {},
   "outputs": [
    {
     "data": {
      "text/plain": [
       "'The operation was successful. '"
      ]
     },
     "execution_count": 34,
     "metadata": {},
     "output_type": "execute_result"
    }
   ],
   "source": [
    "#enables the package\n",
    "document.enablePackage(groupURI, 'groups', True)\n",
    "\n",
    "# Makes it such that having groups is not required\n",
    "result = document.setPkgRequired('groups', False)\n",
    "\n",
    "#prints whether it was successful or not\n",
    "OperationReturnValue_toString(result)\n",
    "\n",
    "# if you write out the document now, it should have two additional expressions in the \"<sbml>\"\n",
    "# 'http://www.sbml.org/sbml/level3/version1/groups/version1'\n",
    "# 'groups:required='false'"
   ]
  },
  {
   "cell_type": "code",
   "execution_count": 55,
   "metadata": {},
   "outputs": [],
   "source": [
    "#writeSBMLToFile(document, 'group_testing.xml')"
   ]
  },
  {
   "cell_type": "code",
   "execution_count": 35,
   "metadata": {},
   "outputs": [],
   "source": [
    "#document = reader.readSBMLFromFile('group_testing.xml')\n",
    "group_model = document.getModel()"
   ]
  },
  {
   "cell_type": "code",
   "execution_count": 36,
   "metadata": {},
   "outputs": [
    {
     "name": "stdout",
     "output_type": "stream",
     "text": [
      "2\n",
      "<libsbml.FbcModelPlugin; proxy of <Swig Object of type 'FbcModelPlugin *' at 0x000000558EFB89C0> >\n",
      "<libsbml.GroupsModelPlugin; proxy of <Swig Object of type 'GroupsModelPlugin *' at 0x000000558EFB8840> >\n"
     ]
    }
   ],
   "source": [
    "n_plugins = group_model.getNumPlugins()\n",
    "print(n_plugins)\n",
    "plugin1 = group_model.getPlugin(0)\n",
    "print(plugin1)\n",
    "plugin2 = group_model.getPlugin(1)\n",
    "print(plugin2)"
   ]
  },
  {
   "cell_type": "code",
   "execution_count": 37,
   "metadata": {},
   "outputs": [
    {
     "name": "stdout",
     "output_type": "stream",
     "text": [
      "<libsbml.SBMLDocumentPlugin; proxy of <Swig Object of type 'SBMLDocumentPlugin *' at 0x000000558EFB8AE0> >\n"
     ]
    }
   ],
   "source": [
    "#document.enablePackage(groupURI, 'groups', True)\n",
    "mplugin = document.getPlugin('groups')\n",
    "print(mplugin)"
   ]
  },
  {
   "cell_type": "markdown",
   "metadata": {},
   "source": [
    "### Create dictionary with subsystems and their respective reactions "
   ]
  },
  {
   "cell_type": "code",
   "execution_count": 38,
   "metadata": {},
   "outputs": [
    {
     "name": "stdout",
     "output_type": "stream",
     "text": [
      "78\n",
      "78\n"
     ]
    }
   ],
   "source": [
    "subsystems = list(set(list(reactions['Subsystems'])))\n",
    "print(len(subsystems))\n",
    "\n",
    "group_dict = {}\n",
    "\n",
    "for sub in subsystems:\n",
    "    sub_list = []\n",
    "    for i in range(len(reactions)):\n",
    "        if reactions.loc[i]['Subsystems'] == sub:\n",
    "            sub_list.append(reactions.loc[i]['Abbreviation'])\n",
    "    group_dict[sub] = sub_list\n",
    "    \n",
    "print(len(group_dict))"
   ]
  },
  {
   "cell_type": "code",
   "execution_count": 39,
   "metadata": {},
   "outputs": [
    {
     "name": "stdout",
     "output_type": "stream",
     "text": [
      "['rxn00616', 'rxn00611', 'rxn00612', 'rxn08669', 'rPY00184', 'rxn08229', 'rxn08230', 'rPY00183', 'rxn08231', 'rxn08232', 'rxn00539', 'rxn01073', 'rxn00758', 'rxn13817', 'rxn13815', 'rxn09108', 'rxn09109', 'rxn09110', 'rxn09111', 'rxn09112', 'rxn09113', 'rxn09114', 'rPY00215', 'rxn13889', 'rPY00214', 'rxn09101', 'rxn09102', 'rxn09103', 'rxn09104', 'rxn09105', 'rxn09106', 'rxn09107', 'rxn13887', 'rxn09205', 'rxn09206', 'rxn09207', 'rxn09208', 'rxn09209', 'rxn09210', 'rxn09211', 'rxn10233', 'rxn10236', 'rxn10232', 'rxn10237', 'rxn10235', 'rxn10234', 'rxn13894', 'rxn09197', 'rxn09198', 'rxn09199', 'rPY00165', 'rxn09200', 'rxn09201', 'rPY00170', 'rxn09202', 'rxn09203', 'rxn13818', 'rxn05964', 'rxn06079', 'rxn06087', 'rxn05901', 'rxn06140', 'rxn06043', 'rxn04684', 'rxn00538', 'rxn05829', 'rxn05824']\n"
     ]
    }
   ],
   "source": [
    "print(group_dict['Glycerophospholipid metabolism'])"
   ]
  },
  {
   "cell_type": "markdown",
   "metadata": {},
   "source": [
    "### And now add the dictionary to the groups"
   ]
  },
  {
   "cell_type": "code",
   "execution_count": 40,
   "metadata": {},
   "outputs": [
    {
     "name": "stdout",
     "output_type": "stream",
     "text": [
      "0\n",
      "0\n"
     ]
    }
   ],
   "source": [
    "groups = group_model.getPlugin('groups')\n",
    "print(groups.getNumGroups())\n",
    "\n",
    "#print(groups)\n",
    "group_list = groups.getListOfGroups()\n",
    "print(len(group_list))"
   ]
  },
  {
   "cell_type": "code",
   "execution_count": 41,
   "metadata": {},
   "outputs": [
    {
     "name": "stdout",
     "output_type": "stream",
     "text": [
      "Number of groups: 78\n"
     ]
    }
   ],
   "source": [
    "keys = list(group_dict.keys())\n",
    "num_reactions = [len(sub) for sub in list(group_dict.values())]\n",
    "group_id = 0\n",
    "\n",
    "for i in range(0, len(group_dict)):     #94 reactions included \n",
    "    group_list.createGroup()\n",
    "    group_list[i].setName(keys[i])\n",
    "    group_list[i].setKind('partonomy')\n",
    "    group_list[i].setSBOTerm(\"SBO:0000633\")\n",
    "    for j in range(0, num_reactions[i]):\n",
    "        group_list[i].createMember()       #Number of reactions participating in this pathway \n",
    "        \n",
    "n_groups = groups.getNumGroups()\n",
    "print('Number of groups: {}'.format(n_groups)) "
   ]
  },
  {
   "cell_type": "code",
   "execution_count": 42,
   "metadata": {},
   "outputs": [],
   "source": [
    "#Corresponding number of members is created in the previous step. \n",
    "# The reaction id is set as ID \n",
    "group_list = groups.getListOfGroups()\n",
    "\n",
    "for i in range(0, n_groups):\n",
    "    group =group_list[i].getName()\n",
    "    num_members = group_list[i].getNumMembers()\n",
    "    member_list = group_list[i].getListOfMembers()\n",
    "    reaction_list = group_dict[group]\n",
    "    for j in range(0, num_members): \n",
    "        #member_list[j].setId(reaction_list[j])  #setRefId? \n",
    "        member_list[j].setIdRef('R_' + reaction_list[j])"
   ]
  },
  {
   "cell_type": "code",
   "execution_count": 43,
   "metadata": {},
   "outputs": [
    {
     "name": "stdout",
     "output_type": "stream",
     "text": [
      "First group is: Tyrosine metabolism\n",
      "This group has 8 members\n",
      "\n",
      "The members (reactions) are:\n",
      "R_rxn01945\n",
      "R_rJB00104\n",
      "R_rxn03055\n",
      "R_rxn02276\n",
      "R_rxn00527\n",
      "R_rxn00993\n",
      "R_rxn01825\n",
      "R_rxn02366\n"
     ]
    }
   ],
   "source": [
    "#Example: \n",
    "group_list = groups.getListOfGroups()\n",
    "print('First group is: {}'.format(group_list[0].getName()))\n",
    "\n",
    "sulfur_num = group_list[0].getNumMembers()\n",
    "print('This group has {} members'.format(sulfur_num))\n",
    "\n",
    "\n",
    "\n",
    "print('\\nThe members (reactions) are:')\n",
    "\n",
    "sulfur_reactions = group_list[0].getListOfMembers()\n",
    "for i in range(0, sulfur_num):\n",
    "    print(sulfur_reactions[i].getIdRef())"
   ]
  },
  {
   "cell_type": "code",
   "execution_count": 44,
   "metadata": {},
   "outputs": [
    {
     "data": {
      "text/plain": [
       "1"
      ]
     },
     "execution_count": 44,
     "metadata": {},
     "output_type": "execute_result"
    }
   ],
   "source": [
    "newdocument = group_model.getSBMLDocument()\n",
    "writeSBMLToFile(newdocument,'created_PA14.xml') # 1 means success, 0 means failure"
   ]
  },
  {
   "cell_type": "markdown",
   "metadata": {},
   "source": [
    "# Reactions"
   ]
  },
  {
   "cell_type": "code",
   "execution_count": 45,
   "metadata": {},
   "outputs": [],
   "source": [
    "document = reader.readSBMLFromFile('created_PA14.xml')\n",
    "reaction_model = document.getModel()"
   ]
  },
  {
   "cell_type": "code",
   "execution_count": 46,
   "metadata": {},
   "outputs": [
    {
     "data": {
      "text/html": [
       "<div>\n",
       "<style scoped>\n",
       "    .dataframe tbody tr th:only-of-type {\n",
       "        vertical-align: middle;\n",
       "    }\n",
       "\n",
       "    .dataframe tbody tr th {\n",
       "        vertical-align: top;\n",
       "    }\n",
       "\n",
       "    .dataframe thead th {\n",
       "        text-align: right;\n",
       "    }\n",
       "</style>\n",
       "<table border=\"1\" class=\"dataframe\">\n",
       "  <thead>\n",
       "    <tr style=\"text-align: right;\">\n",
       "      <th></th>\n",
       "      <th>Abbreviation</th>\n",
       "      <th>Name</th>\n",
       "      <th>Reaction</th>\n",
       "      <th>GPR</th>\n",
       "      <th>Subsystems</th>\n",
       "      <th>Reversible</th>\n",
       "      <th>Lower bound</th>\n",
       "      <th>Upper bound</th>\n",
       "      <th>Objective</th>\n",
       "      <th>EC. Number</th>\n",
       "      <th>Notes</th>\n",
       "      <th>References</th>\n",
       "    </tr>\n",
       "  </thead>\n",
       "  <tbody>\n",
       "    <tr>\n",
       "      <th>0</th>\n",
       "      <td>rxn03253</td>\n",
       "      <td>acyl-CoA dehydrogenase (decanoyl-CoA)</td>\n",
       "      <td>cpd00015_c + cpd03128_c -&gt; cpd00982_c + cpd031...</td>\n",
       "      <td>PA14_52900 or PA14_06600 or PA14_31580</td>\n",
       "      <td>Fatty acid metabolism</td>\n",
       "      <td>0</td>\n",
       "      <td>0.0</td>\n",
       "      <td>1000.0</td>\n",
       "      <td>0</td>\n",
       "      <td>NaN</td>\n",
       "      <td>*JAB 06/23/14 - switched out NAD for FAD based...</td>\n",
       "      <td>Guzik, M. W., Narancic, T., Ilic-Tomic, T., Vo...</td>\n",
       "    </tr>\n",
       "    <tr>\n",
       "      <th>1</th>\n",
       "      <td>rxn02720</td>\n",
       "      <td>acyl-CoA dehydrogenase (dodecanoyl-CoA)</td>\n",
       "      <td>cpd00015_c + cpd01260_c -&gt; cpd00982_c + cpd020...</td>\n",
       "      <td>PA14_52900 or PA14_06600 or PA14_31580</td>\n",
       "      <td>Fatty acid metabolism</td>\n",
       "      <td>0</td>\n",
       "      <td>0.0</td>\n",
       "      <td>1000.0</td>\n",
       "      <td>0</td>\n",
       "      <td>NaN</td>\n",
       "      <td>*JAB 06/23/14 - switched out NAD for FAD based...</td>\n",
       "      <td>Guzik, M. W., Narancic, T., Ilic-Tomic, T., Vo...</td>\n",
       "    </tr>\n",
       "  </tbody>\n",
       "</table>\n",
       "</div>"
      ],
      "text/plain": [
       "  Abbreviation                                     Name  \\\n",
       "0     rxn03253    acyl-CoA dehydrogenase (decanoyl-CoA)   \n",
       "1     rxn02720  acyl-CoA dehydrogenase (dodecanoyl-CoA)   \n",
       "\n",
       "                                            Reaction  \\\n",
       "0  cpd00015_c + cpd03128_c -> cpd00982_c + cpd031...   \n",
       "1  cpd00015_c + cpd01260_c -> cpd00982_c + cpd020...   \n",
       "\n",
       "                                      GPR             Subsystems  Reversible  \\\n",
       "0  PA14_52900 or PA14_06600 or PA14_31580  Fatty acid metabolism           0   \n",
       "1  PA14_52900 or PA14_06600 or PA14_31580  Fatty acid metabolism           0   \n",
       "\n",
       "   Lower bound  Upper bound  Objective EC. Number  \\\n",
       "0          0.0       1000.0          0        NaN   \n",
       "1          0.0       1000.0          0        NaN   \n",
       "\n",
       "                                               Notes  \\\n",
       "0  *JAB 06/23/14 - switched out NAD for FAD based...   \n",
       "1  *JAB 06/23/14 - switched out NAD for FAD based...   \n",
       "\n",
       "                                          References  \n",
       "0  Guzik, M. W., Narancic, T., Ilic-Tomic, T., Vo...  \n",
       "1  Guzik, M. W., Narancic, T., Ilic-Tomic, T., Vo...  "
      ]
     },
     "execution_count": 46,
     "metadata": {},
     "output_type": "execute_result"
    }
   ],
   "source": [
    "reactions.head(2)"
   ]
  },
  {
   "cell_type": "code",
   "execution_count": 47,
   "metadata": {},
   "outputs": [],
   "source": [
    "# first add meta_ids to the reactions to enable CV-Terms addition\n",
    "reaction_list = reaction_model.getListOfReactions()\n",
    "for react in reaction_list:\n",
    "    react.setMetaId(react.getId())"
   ]
  },
  {
   "cell_type": "markdown",
   "metadata": {},
   "source": [
    "### Add E.C. Numbers"
   ]
  },
  {
   "cell_type": "code",
   "execution_count": 48,
   "metadata": {},
   "outputs": [],
   "source": [
    "#Add the E.C. Number as Biological Qualifier Resource \n",
    "for react in reaction_list:\n",
    "    react_id = react.getId()[2:]     #get the id of the reaction, without the Prefix 'R_'\n",
    "    ec_col = reactions.loc[reactions['Abbreviation'] == react_id]['EC. Number'].iloc[0] #get the content of the pandas df\n",
    "    if type(ec_col) == str:\n",
    "        if ec_col == 'Undetermined': \n",
    "            continue\n",
    "        elif 'TC-' in ec_col:\n",
    "            ec = ec_col.split(',')\n",
    "            EC_num = ec[1]\n",
    "            cv = CVTerm()\n",
    "            cv.setQualifierType(BIOLOGICAL_QUALIFIER)\n",
    "            cv.setBiologicalQualifierType(BQB_IS)\n",
    "            cv.addResource('http://identifiers.org/tcdb/'+EC_num)\n",
    "                \n",
    "            react.addCVTerm(cv)\n",
    "            \n",
    "        else:\n",
    "            ec = ec_col.split(',')\n",
    "            if len(ec) > 1:\n",
    "                for i in range(len(ec)):\n",
    "                    EC_num = ec[i].strip()\n",
    "                    cv = CVTerm()\n",
    "                    cv.setQualifierType(BIOLOGICAL_QUALIFIER)\n",
    "                    cv.setBiologicalQualifierType(BQB_IS)\n",
    "                    cv.addResource('http://identifiers.org/ec-code/'+EC_num)\n",
    "                \n",
    "                    react.addCVTerm(cv)\n",
    "                      \n",
    "            else: \n",
    "                EC_num = ec[0]\n",
    "                cv = CVTerm()\n",
    "                cv.setQualifierType(BIOLOGICAL_QUALIFIER)\n",
    "                cv.setBiologicalQualifierType(BQB_IS)\n",
    "                cv.addResource('http://identifiers.org/ec-code/'+EC_num)\n",
    "                \n",
    "                react.addCVTerm(cv)"
   ]
  },
  {
   "cell_type": "markdown",
   "metadata": {},
   "source": [
    "### Add Authors/References"
   ]
  },
  {
   "cell_type": "code",
   "execution_count": 49,
   "metadata": {},
   "outputs": [],
   "source": [
    "url = '\"http://www.w3.org/1999/xhtml\"'\n",
    "\n",
    "for react in reaction_list:\n",
    "    react_id = react.getId()[2:]     #get the id of the reaction, withour the Prefix 'R_'\n",
    "    ref_col = reactions.loc[reactions['Abbreviation'] == react_id]['References'].iloc[0] #get the content of the pandas df\n",
    "    \n",
    "    if type(ref_col) == str:\n",
    "        if '&' in ref_col:\n",
    "            ref_col = ref_col.replace('&', 'and')\n",
    "        \n",
    "        note = '<body xmlns='+url+'><p>REFERENCES: '+ ref_col +' </p></body>'\n",
    "        \n",
    "        react.setNotes(note)"
   ]
  },
  {
   "cell_type": "markdown",
   "metadata": {},
   "source": [
    "### Add Notes from Excel file"
   ]
  },
  {
   "cell_type": "code",
   "execution_count": 50,
   "metadata": {},
   "outputs": [
    {
     "name": "stdout",
     "output_type": "stream",
     "text": [
      "808\n",
      "93\n",
      "715\n"
     ]
    }
   ],
   "source": [
    "num_notes = 0\n",
    "appended = 0\n",
    "created = 0\n",
    "\n",
    "url = '\"http://www.w3.org/1999/xhtml\"'\n",
    "\n",
    "for react in reaction_list:\n",
    "    react_id = react.getId()[2:]     #get the id of the reaction, without the Prefix 'R_'\n",
    "    notes_col = reactions.loc[reactions['Abbreviation'] == react_id]['Notes'].iloc[0] #get the content of the pandas df\n",
    "    \n",
    "    if type(notes_col) == str:\n",
    "        num_notes += 1\n",
    "        \n",
    "        if '>' in notes_col or '<' in notes_col:\n",
    "                notes_col = notes_col.replace('->', 'rightarrow')\n",
    "                notes_col = notes_col.replace('=>', 'rightarrow')\n",
    "                notes_col = notes_col.replace('<-', 'leftarrow')\n",
    "                notes_col = notes_col.replace('<=', 'leftarrow')\n",
    "                notes_col = notes_col.replace('<=>', 'bidirectional arrow')\n",
    "                notes_col = notes_col.replace('<', 'leq')\n",
    "                notes_col = notes_col.replace('>', 'geq')\n",
    "                \n",
    "        if react.isSetNotes():\n",
    "            note = '<body xmlns='+url+'><p>NOTES: '+ notes_col +' </p></body>'\n",
    "            status = react.appendNotes(note)\n",
    "            \n",
    "            if status == LIBSBML_OPERATION_SUCCESS:\n",
    "                appended += 1 \n",
    "            else:\n",
    "                print(react.getId(), note)\n",
    "                \n",
    "        else:\n",
    "            note = '<body xmlns='+url+'><p>NOTES: '+ notes_col +' </p></body>'\n",
    "            status = react.setNotes(note)\n",
    "            if status == LIBSBML_OPERATION_SUCCESS:\n",
    "                created += 1 \n",
    "            else:\n",
    "                print(react.getId(), '\\n', notes_col)\n",
    "            \n",
    "        \n",
    "        #eact.getNotesString()\n",
    "            \n",
    "print(num_notes)\n",
    "print(appended)\n",
    "print(created)"
   ]
  },
  {
   "cell_type": "code",
   "execution_count": 51,
   "metadata": {},
   "outputs": [
    {
     "data": {
      "text/plain": [
       "1"
      ]
     },
     "execution_count": 51,
     "metadata": {},
     "output_type": "execute_result"
    }
   ],
   "source": [
    "newdocument = reaction_model.getSBMLDocument()\n",
    "writeSBMLToFile(newdocument,'created_PA14.xml') # 1 means success, 0 means failure"
   ]
  }
 ],
 "metadata": {
  "kernelspec": {
   "display_name": "Python 3",
   "language": "python",
   "name": "python3"
  },
  "language_info": {
   "codemirror_mode": {
    "name": "ipython",
    "version": 3
   },
   "file_extension": ".py",
   "mimetype": "text/x-python",
   "name": "python",
   "nbconvert_exporter": "python",
   "pygments_lexer": "ipython3",
   "version": "3.6.5"
  }
 },
 "nbformat": 4,
 "nbformat_minor": 2
}
