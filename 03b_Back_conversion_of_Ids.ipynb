{
 "cells": [
  {
   "cell_type": "code",
   "execution_count": 39,
   "metadata": {},
   "outputs": [],
   "source": [
    "from libsbml import * \n",
    "reader = SBMLReader()\n",
    "document = reader.readSBMLFromFile('created_PA14_model_polisher_output.xml')\n",
    "model = document.getModel()"
   ]
  },
  {
   "cell_type": "code",
   "execution_count": 40,
   "metadata": {},
   "outputs": [
    {
     "name": "stdout",
     "output_type": "stream",
     "text": [
      "Species: 1295\n",
      "Reactions:  1518\n",
      "Compartments:  4\n"
     ]
    }
   ],
   "source": [
    "print('Species:', model.getNumSpecies())\n",
    "print('Reactions: ', model.getNumReactions())\n",
    "print('Compartments: ', model.getNumCompartments())"
   ]
  },
  {
   "cell_type": "code",
   "execution_count": 41,
   "metadata": {},
   "outputs": [],
   "source": [
    "reaction_list = model.getListOfReactions()"
   ]
  },
  {
   "cell_type": "code",
   "execution_count": 42,
   "metadata": {},
   "outputs": [],
   "source": [
    "for react in reaction_list:\n",
    "    react.setId(react.getMetaId())\n",
    "    #print(react.getId())"
   ]
  },
  {
   "cell_type": "code",
   "execution_count": 43,
   "metadata": {},
   "outputs": [],
   "source": [
    "metabolite_list = model.getListOfSpecies()"
   ]
  },
  {
   "cell_type": "code",
   "execution_count": 44,
   "metadata": {},
   "outputs": [],
   "source": [
    "for metabolite in metabolite_list:\n",
    "    metabolite.setId(metabolite.getMetaId())"
   ]
  },
  {
   "cell_type": "markdown",
   "metadata": {},
   "source": [
    "### Set objective function"
   ]
  },
  {
   "cell_type": "code",
   "execution_count": 45,
   "metadata": {},
   "outputs": [
    {
     "name": "stdout",
     "output_type": "stream",
     "text": [
      "1485 R_PA14_Biomass R_PA14_Biomass\n",
      "R_PA14_Biomass\n"
     ]
    }
   ],
   "source": [
    "for i in range(len(reaction_list)):\n",
    "    react = reaction_list[i]\n",
    "    if 'PA14' in react.getId():\n",
    "        print(i, react.getId(), react.getMetaId())\n",
    "print(reaction_list[1485].getId())"
   ]
  },
  {
   "cell_type": "code",
   "execution_count": 46,
   "metadata": {},
   "outputs": [
    {
     "name": "stdout",
     "output_type": "stream",
     "text": [
      "R_PA14_BIOMASS\n",
      "1.0\n",
      "R_PA14_Biomass\n"
     ]
    }
   ],
   "source": [
    "mplugin = model.getPlugin('fbc')\n",
    "objective = mplugin.getActiveObjective()\n",
    "fluxObjective = objective.getFluxObjective(0)\n",
    "##print(fluxObjective)\n",
    "print(fluxObjective.getReaction())\n",
    "print(fluxObjective.getCoefficient())\n",
    "fluxObjective.setReaction('R_PA14_Biomass')\n",
    "print(fluxObjective.getReaction())"
   ]
  },
  {
   "cell_type": "markdown",
   "metadata": {},
   "source": [
    "### Solving the 4 compartments"
   ]
  },
  {
   "cell_type": "code",
   "execution_count": 47,
   "metadata": {},
   "outputs": [
    {
     "name": "stdout",
     "output_type": "stream",
     "text": [
      "868\n"
     ]
    }
   ],
   "source": [
    "changed = 0\n",
    "for metabolite in metabolite_list:\n",
    "    if metabolite.getCompartment() =='cytosol':\n",
    "        metabolite.setCompartment('c')\n",
    "        changed += 1\n",
    "    elif metabolite.getCompartment() == 'extracellular':\n",
    "        metabolite.setCompartment('e')\n",
    "        changed += 1\n",
    "#metabolite.setCompartment(\"cytosol\")\n",
    "print(changed)"
   ]
  },
  {
   "cell_type": "code",
   "execution_count": 56,
   "metadata": {},
   "outputs": [],
   "source": [
    "compartment_list = model.getListOfCompartments()\n",
    "for comp in compartment_list:\n",
    "    #print(comp.getId())\n",
    "    if comp.getId() == 'cytosol':\n",
    "        comp.removeFromParentAndDelete()\n",
    "        #print('found')\n",
    "    elif comp.getId() == 'extracellular':\n",
    "        comp.removeFromParentAndDelete()"
   ]
  },
  {
   "cell_type": "code",
   "execution_count": 52,
   "metadata": {},
   "outputs": [
    {
     "data": {
      "text/plain": [
       "2"
      ]
     },
     "execution_count": 52,
     "metadata": {},
     "output_type": "execute_result"
    }
   ],
   "source": [
    "model.getNumCompartments()"
   ]
  },
  {
   "cell_type": "markdown",
   "metadata": {},
   "source": [
    "### Export the SBML file"
   ]
  },
  {
   "cell_type": "code",
   "execution_count": 57,
   "metadata": {
    "scrolled": true
   },
   "outputs": [
    {
     "data": {
      "text/plain": [
       "1"
      ]
     },
     "execution_count": 57,
     "metadata": {},
     "output_type": "execute_result"
    }
   ],
   "source": [
    "newdocument = model.getSBMLDocument()\n",
    "writeSBMLToFile(newdocument,'created_PA14_after_model_polisher.xml') # 1 means success, 0 means failure"
   ]
  },
  {
   "cell_type": "markdown",
   "metadata": {},
   "source": [
    "# Testing the model with COBRA"
   ]
  },
  {
   "cell_type": "code",
   "execution_count": 58,
   "metadata": {},
   "outputs": [],
   "source": [
    "import cobra"
   ]
  },
  {
   "cell_type": "code",
   "execution_count": 59,
   "metadata": {},
   "outputs": [
    {
     "data": {
      "text/plain": [
       "18.95808787453786"
      ]
     },
     "execution_count": 59,
     "metadata": {},
     "output_type": "execute_result"
    }
   ],
   "source": [
    "PA14_model =  cobra.io.read_sbml_model('created_PA14_after_model_polisher.xml')\n",
    "PA14_model.optimize().objective_value"
   ]
  }
 ],
 "metadata": {
  "kernelspec": {
   "display_name": "Python 3",
   "language": "python",
   "name": "python3"
  },
  "language_info": {
   "codemirror_mode": {
    "name": "ipython",
    "version": 3
   },
   "file_extension": ".py",
   "mimetype": "text/x-python",
   "name": "python",
   "nbconvert_exporter": "python",
   "pygments_lexer": "ipython3",
   "version": "3.6.5"
  }
 },
 "nbformat": 4,
 "nbformat_minor": 2
}
