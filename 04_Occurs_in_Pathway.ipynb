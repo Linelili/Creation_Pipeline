{
 "cells": [
  {
   "cell_type": "code",
   "execution_count": 1,
   "metadata": {},
   "outputs": [],
   "source": [
    "from libsbml import * \n",
    "reader = SBMLReader()\n",
    "document = reader.readSBMLFromFile('created_PA14_after_model_polisher.xml')\n",
    "model = document.getModel()"
   ]
  },
  {
   "cell_type": "code",
   "execution_count": 2,
   "metadata": {},
   "outputs": [],
   "source": [
    "from Bio.KEGG import REST"
   ]
  },
  {
   "cell_type": "code",
   "execution_count": 3,
   "metadata": {},
   "outputs": [],
   "source": [
    "reaction_list = model.getListOfReactions()"
   ]
  },
  {
   "cell_type": "markdown",
   "metadata": {},
   "source": [
    "### Testing"
   ]
  },
  {
   "cell_type": "code",
   "execution_count": 4,
   "metadata": {},
   "outputs": [
    {
     "name": "stdout",
     "output_type": "stream",
     "text": [
      "http://identifiers.org/kegg.reaction/R03857\n",
      "R03857\n"
     ]
    }
   ],
   "source": [
    "reaction_1 =reaction_list[1]\n",
    "res = reaction_1.getCVTerms().get(0).getResources()\n",
    "res_length = res.getLength()\n",
    "for i in range(res_length):\n",
    "    value = res.getValue(i)\n",
    "    #print(value)\n",
    "    if 'kegg' in value:\n",
    "        print(res.getValue(i))\n",
    "        split = value.split('/')\n",
    "        kegg_id = split[-1]\n",
    "        print(kegg_id)"
   ]
  },
  {
   "cell_type": "code",
   "execution_count": 5,
   "metadata": {},
   "outputs": [],
   "source": [
    "result = REST.kegg_get('R03857').read()\n",
    "#print(result)"
   ]
  },
  {
   "cell_type": "code",
   "execution_count": 6,
   "metadata": {},
   "outputs": [
    {
     "name": "stdout",
     "output_type": "stream",
     "text": [
      "pau00071\n",
      "pau01100\n",
      "pau01212\n"
     ]
    }
   ],
   "source": [
    "splitted = result.split('\\n')\n",
    "for element in splitted:\n",
    "    if 'rn' in element:\n",
    "        sec_split = element.split()\n",
    "        if 'PATHWAY' in element:\n",
    "            pathway_map = 'pau'+ sec_split[1][2:]\n",
    "        else:\n",
    "            pathway_map = 'pau'+ sec_split[0][2:]\n",
    "        print(pathway_map)"
   ]
  },
  {
   "cell_type": "markdown",
   "metadata": {},
   "source": [
    "# Add all pathways to a reaction"
   ]
  },
  {
   "cell_type": "code",
   "execution_count": 8,
   "metadata": {},
   "outputs": [],
   "source": [
    "def get_KEGG_ID(reaction):\n",
    "    kegg_id = ''\n",
    "    term = reaction.getCVTerms()\n",
    "    if term != None:\n",
    "        res = term.get(0).getResources()\n",
    "        res_length = res.getLength()\n",
    "        for i in range(res_length):\n",
    "            value = res.getValue(i)\n",
    "            #print(value)\n",
    "            if 'kegg' in value:\n",
    "                #print(res.getValue(i))\n",
    "                split = value.split('/')\n",
    "                kegg_id = split[-1]\n",
    "                return(kegg_id)\n",
    "                #print(kegg_id)"
   ]
  },
  {
   "cell_type": "code",
   "execution_count": 9,
   "metadata": {},
   "outputs": [],
   "source": [
    "def write_cv_term(react, pathway_id):\n",
    "    cv = CVTerm()\n",
    "    cv.setQualifierType(BIOLOGICAL_QUALIFIER)\n",
    "    cv.setBiologicalQualifierType(BQB_OCCURS_IN)\n",
    "    url = 'http://identifiers.org/kegg.pathway/'+pathway_id\n",
    "    cv.addResource(url)#'http://identifiers.org/kegg.pathway/'+pathway_id)\n",
    "    #print(cv)        \n",
    "    \n",
    "    status = react.addCVTerm(cv)\n",
    "    \n",
    "    \n",
    "    if status == LIBSBML_OPERATION_SUCCESS:\n",
    "        success += 1\n",
    "    #    print('success')\n",
    "    #elif status == LIBSBML_INVALID_OBJECT:\n",
    "    #    print('invalid object')\n",
    "    #elif status == LIBSBML_OPERATION_FAILED:\n",
    "    #    print('failed')\n",
    "    else:\n",
    "        print(react, val)"
   ]
  },
  {
   "cell_type": "code",
   "execution_count": 10,
   "metadata": {},
   "outputs": [
    {
     "name": "stdout",
     "output_type": "stream",
     "text": [
      "9\n"
     ]
    }
   ],
   "source": [
    "success = 0\n",
    "for react in reaction_list:\n",
    "    try:\n",
    "        kegg_id = get_KEGG_ID(react)\n",
    "        if kegg_id:\n",
    "            result = REST.kegg_get(kegg_id).read()\n",
    "            splitted = result.split('\\n')\n",
    "            for element in splitted:\n",
    "                if 'rn' in element:\n",
    "                    sec_split = element.split()\n",
    "                    if 'PATHWAY' in element:\n",
    "                        pathway_map = 'pau'+ sec_split[1][2:]\n",
    "                    else:\n",
    "                        pathway_map = 'pau'+ sec_split[0][2:]\n",
    "                        \n",
    "                    try:\n",
    "                        #print(pathway_map)\n",
    "                        pathway_result = REST.kegg_get(pathway_map)\n",
    "                        #write_cv_term(react, pathway_map)\n",
    "                        \n",
    "                        cv = CVTerm()\n",
    "                        cv.setQualifierType(BIOLOGICAL_QUALIFIER)\n",
    "                        cv.setBiologicalQualifierType(BQB_OCCURS_IN)\n",
    "                        url = 'http://identifiers.org/kegg.pathway/'+pathway_map\n",
    "                        cv.addResource(url)#'http://identifiers.org/kegg.pathway/'+pathway_id)\n",
    "                        #print(cv)   \n",
    "                        \n",
    "                        status = react.addCVTerm(cv)\n",
    "                        #print(status)\n",
    "                        if status == LIBSBML_OPERATION_SUCCESS:\n",
    "                            success += 1\n",
    "                        else:\n",
    "                            print(react, val)\n",
    "                            \n",
    "                    except:\n",
    "                        #print(pathway_map)\n",
    "                        continue\n",
    "        else:\n",
    "            continue\n",
    "    except:\n",
    "        continue\n",
    "                \n",
    "print(success)"
   ]
  },
  {
   "cell_type": "code",
   "execution_count": 7,
   "metadata": {},
   "outputs": [
    {
     "data": {
      "text/plain": [
       "1"
      ]
     },
     "execution_count": 7,
     "metadata": {},
     "output_type": "execute_result"
    }
   ],
   "source": [
    "newdocument = model.getSBMLDocument()\n",
    "writeSBMLToFile(newdocument,'PA14_reactions_pathways.xml') # 1 means success, 0 means failure"
   ]
  }
 ],
 "metadata": {
  "kernelspec": {
   "display_name": "Python 3",
   "language": "python",
   "name": "python3"
  },
  "language_info": {
   "codemirror_mode": {
    "name": "ipython",
    "version": 3
   },
   "file_extension": ".py",
   "mimetype": "text/x-python",
   "name": "python",
   "nbconvert_exporter": "python",
   "pygments_lexer": "ipython3",
   "version": "3.6.5"
  }
 },
 "nbformat": 4,
 "nbformat_minor": 2
}
